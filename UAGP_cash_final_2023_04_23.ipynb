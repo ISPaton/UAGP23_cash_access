{
 "cells": [
  {
   "cell_type": "markdown",
   "id": "b8b43ff7",
   "metadata": {},
   "source": [
    "# Equal Access to Cash in the context of the 20 Minute Neighbourhood\n",
    "\n",
    "### Chuang Wang    Jianan Wei    Iain Paton\n",
    "\n",
    "## Urban Analytics Group Project 2022-2023\n",
    "\n",
    "## Introduction\n",
    "\n",
    "Equal access to cash is an issue identified within the context of the 20 minute neighbourhood, alongside other factors (Olsen, Thornton, Tregonning, Mitchell 2022) with analysis that indicates 4.6% of the UK population do not have access to a free-to-use cash machine (ATM) and are required to pay a transaction fee (for example, £1.99) for withdrawing cash (Financial Conduct Authority 2021). The  assessment of spatial equity is well-established in Scotland, notably in Glasgow (Beairstoe Tian, Zheng, Zhao, Hong 2022) including application of the the two-step floating catchment analysis.\n",
    "\n",
    "Access to cash has also been considered in Austria (Stir, 2020), Australia (Delaney et al, 2019; Caddy and Zhang, 2021) and Spain (Gonzalo and Sala, 2018; Restrepo, 2021) and Switzerland (Trütsch, 2022), also looking at bank closures, although often in the context of access by car. It is generally concluded there are more ATMs and bank branches in wealthier areas compared with poorer areas.\n",
    "\n",
    "This issue may have a disproportionate impact upon poorer people, who lack access to motor vehicles and may have a greater reliance upon cash transactions, and this analysis investigates the relationship between deprivation and walkable access to cash. This is acknowledged by the banking sector, with industry subsidy schemes for ATM access (the LINK network) and further interventions to support community access to cash, which may mitigate such impacts.\n",
    "\n",
    "## Data sources\n",
    "\n",
    "There are two data sources: \n",
    "\n",
    "**1 the x/y coordinates of ATMs by type** (free or surcharging) as the \"supply\" or \"service\" element \n",
    "\n",
    "<div style=\"display:inline-block;\">\n",
    "    \n",
    "| ATMs | Free | Surcharging | Total |\n",
    "|-----------------|-----------------|-----------------|-----------------|\n",
    "| Scotland | 4049 | 1026 |5075|\n",
    "| Glasgow | 576 | 187 |763|\n",
    "    \n",
    "</div>\n",
    "\n",
    "**2 the Scottish Index of Multiple Deprivation** as the \"demand\" element, as a polygon dataset\n",
    "\n",
    "<div style=\"display:inline-block;\">\n",
    "    \n",
    "| Datazones| Total|\n",
    "|-----------------|-----------------|\n",
    "| Scotland | 6976 | \n",
    "| Glasgow | 824 (726 attributed to Glasgow City | \n",
    "    \n",
    "</div>\n",
    "\n",
    "\n",
    "## Method\n",
    "\n",
    "The 2 step Floating Catchment Analysis (2SFCA) is used to compare relative accessibility between populations, using datazones and SIMD decile, and cash machine/ATM service provider locations of the types 'free' and 'surcharging', using catchments that calculate or assume a 800m Manhattan (grid/block) walking distance equivalent as a 566m radius, to investigate if there is a disparity in equal access to free-to-use ATMs. This is conducted on an exploratory basis for Glasgow and on a fuller basis for Scotland. The 566m radius is a convenient calculation and reasonable representation of the block distance of an 800m 20 minute neighbourhood or the 600m of a 15 minute neighbourhood in a denser city environment.\n",
    "\n",
    "2SFCA is well-established method originating in the measuring health facility accessibility (Luo and Wang, 2003), applied in England to measure the accessibility of GP practices (Bauer et al 2018) and employed recently in Glasgow to idenitfy new locations for bike sharing stations. (Beairsto et al, 2022). The first catchment analysis is applied to demand points with catchments containing residential points and supply population values, calculating a supply to demand ratio, which is then aggregated in a second catchment analyis centred on residential catchments that sums the supply to demand ratios for each catchment and then applies a spatial accessibility index from 0 to 1. \n",
    "\n",
    "Ordinary least squares (OLS) ression analysis can be applied to dependent (access index) and independent variables (income deprivation index) to establish if there is a statistical relationship.\n",
    "\n",
    "The analysis is applied separately to \"free\" and \"surcharging\" ATM locations as supply catchments versus the SIMD-based demand catchment, for Glasgow in some detail and then for Scotland.\n",
    "\n",
    "A more detailed look is taken with regard to the clusters of Free ATMs in Glasgow and also the extent of catchments for Surcharging ATMs for Scotland that have zero accessibility.\n",
    "\n",
    "In addition, nearest-distance tables between demand locations and supply locations, for each type - free and surcharging - are calculated and mapped. \n",
    "\n"
   ]
  },
  {
   "cell_type": "code",
   "execution_count": null,
   "id": "f297c4e6",
   "metadata": {
    "scrolled": false
   },
   "outputs": [],
   "source": [
    "import numpy as np\n",
    "import pandas as pd\n",
    "import geopandas as gpd\n",
    "from IPython.display import Markdown, display\n",
    "import shapefile\n",
    "import matplotlib as mpl\n",
    "import matplotlib.pyplot as plt\n",
    "import requests\n",
    "import urllib3\n",
    "import seaborn as sns\n",
    "import contextily as ctx\n",
    "from pandas import Series, DataFrame\n",
    "from shapely.geometry import Point\n",
    "from shapely.geometry import shape  \n",
    "from zipfile import ZipFile\n",
    "from io import StringIO\n",
    "import scipy\n",
    "from scipy import stats\n",
    "from scipy.stats import norm\n",
    "from sklearn import preprocessing\n",
    "from sklearn.preprocessing import StandardScaler\n",
    "from sklearn.model_selection import cross_val_score\n",
    "from sklearn.model_selection import train_test_split\n",
    "from sklearn.cluster import KMeans\n",
    "from sklearn.ensemble import RandomForestClassifier\n",
    "from sklearn.neighbors import KNeighborsClassifier\n",
    "from sklearn.linear_model import LinearRegression\n",
    "from sklearn import metrics\n",
    "from IPython.core.display import HTML\n",
    "from owslib.wfs import WebFeatureService\n",
    "from owslib.util import Authentication\n",
    "import requests\n",
    "import math\n",
    "\n",
    "from IPython.core.display import HTML\n",
    "table_css = 'table {align:left;display:block} '\n",
    "HTML('<style>{}</style>'.format(table_css))\n",
    "\n",
    "%matplotlib inline"
   ]
  },
  {
   "cell_type": "markdown",
   "id": "db11f9bd",
   "metadata": {},
   "source": [
    "## Data: Cash Machines/ATMs\n",
    "\n",
    "This dataset is published by the LINK network and categorises ATMs as \"free\" or \"surcharging\".\n",
    "\n",
    "The columns and types are outlined below. There are a total of **4049** and **1026** free and surcharging ATMs in Scotland. "
   ]
  },
  {
   "cell_type": "code",
   "execution_count": null,
   "id": "e6766bd6",
   "metadata": {
    "scrolled": false
   },
   "outputs": [],
   "source": [
    "atm_data = pd.read_csv('cashpoint_xy.csv')\n",
    "atm_data.columns\n",
    "\n"
   ]
  },
  {
   "cell_type": "markdown",
   "id": "70cfd7c1",
   "metadata": {},
   "source": [
    "The data is plotted spatially below in **Figure 1.** and this provides an indication of the spatial distribution, prior to joining with socio-economic data."
   ]
  },
  {
   "cell_type": "code",
   "execution_count": null,
   "id": "fd58c88a",
   "metadata": {
    "scrolled": false
   },
   "outputs": [],
   "source": [
    "fig, ax = plt.subplots(figsize=(32,16))\n",
    "geometry = [Point(xy) for xy in zip(atm_data['x'], atm_data['y'])]\n",
    "crs = {'init': 'epsg:27700'}\n",
    "atm_geodata = gpd.GeoDataFrame(atm_data, crs=crs, geometry=geometry)\n",
    "plt.suptitle('Figure 2.1. ATMs by Type', fontsize=18)\n",
    "plt.ylabel('y',fontsize=14)\n",
    "plt.xlabel('x',fontsize=14)\n",
    "atm_geodata.plot(ax=ax, column = 'Charge Type',cmap = 'RdYlGn_r',label = 'Charge Type', legend=True)\n",
    "ctx.add_basemap(ax, source=ctx.providers.CartoDB.Voyager,crs='EPSG:27700')\n",
    "plt.show()"
   ]
  },
  {
   "cell_type": "markdown",
   "id": "739b0a64",
   "metadata": {},
   "source": [
    "## Data: SIMD\n",
    "\n",
    "The Scottish Index of Multiple Deprivation (SIMD) is a relative and area-based measure of deprivation across 6,976 small area data zones. SIMD ranks data zones from most deprived (ranked 1) to least deprived (ranked 6,976) across a number of categories - income, employment, education, health, access to services, crime and housing - which also includes an aggregate ranking and is commonly arranged in deciles or quintiles."
   ]
  },
  {
   "cell_type": "code",
   "execution_count": null,
   "id": "1326f489",
   "metadata": {
    "scrolled": false
   },
   "outputs": [],
   "source": [
    "url = \"https://maps.gov.scot/ATOM/shapefiles/SG_SIMD_2020.zip\"\n",
    "simdmap_df = gpd.read_file(url)\n",
    "simdmap_df.columns"
   ]
  },
  {
   "cell_type": "code",
   "execution_count": null,
   "id": "5e418ec3",
   "metadata": {
    "scrolled": true
   },
   "outputs": [],
   "source": [
    "simdmap_df.describe()"
   ]
  },
  {
   "cell_type": "markdown",
   "id": "8c39df81",
   "metadata": {},
   "source": [
    "SIMD is visualised spatially below in **Figure 2**."
   ]
  },
  {
   "cell_type": "code",
   "execution_count": null,
   "id": "c2ca41f7",
   "metadata": {
    "scrolled": true
   },
   "outputs": [],
   "source": [
    "fig, ax = plt.subplots(figsize=(32,16))\n",
    "plt.suptitle('Figure 2. Datazones by Multiple Deprivation Decile', fontsize=18)\n",
    "plt.ylabel('northing',fontsize=14)\n",
    "plt.xlabel('easting',fontsize=14)\n",
    "simdmap_df.plot(ax=ax, column='Decilev2', linewidth = 0.1, legend=True)\n",
    "ctx.add_basemap(ax, source=ctx.providers.CartoDB.Voyager,crs='EPSG:27700')\n"
   ]
  },
  {
   "cell_type": "markdown",
   "id": "2abc455c",
   "metadata": {},
   "source": [
    "# Initial Catchment and Exploratory Data Analysis - Glasgow\n",
    "\n",
    "The 2SFCA process requires two catchments: service suppliers and service users. The former can be derived from ATM locations (**Figure 1**) and the latter from datazones (**Figure 2**), which already has population estimates (Small Area Population Estimates or SAPE) and deprivation indices when joined with the Scottish Index of Multiple Deprivation as above.\n",
    "\n",
    "Catchments can be created from the concept of a walkable \"20 minute neighbourhood\". The generally assumed distance is 800 metres, as recommended by Sustrans. As this is in an urban context, Manhattan block rather than Euclidean straight-line distance seems more appropriate and this is a straightforward calculation. \n",
    "\n",
    "## $d_E(p, q) = \\sqrt{(p_x - q_x)^2 + (p_y - q_y)^2}$\n",
    "\n",
    "## $d_M(p, q) = |p_x - q_x| + |p_y - q_y|$\n",
    "\n",
    "The outcome of this calculation for 800 metres is 566m which also reflects the 600 metres that can be assumed for a 15 minute city.\n",
    "\n",
    "\n",
    "For datazones, which are polygons of various shapes and sizes depending upon population density (500-1000 persons), a notional catchment can be derived from the area attribute, as an approximate measure of accessibility.\n",
    "\n",
    "## $r = \\sqrt{\\frac{A}{\\pi}}$\n",
    "\n",
    "This can then be subject to a similar Euclidean vs Manhattan radial distance calculation as above.\n",
    "\n",
    "In **Figure 3** below, the majority of the datazones have a catchment radius of less than **300m**. The mean distance is **566m** which provides an interesting complementarity with the Manhattan distance derived from the 20 minute neighbourhood distance of **800m**.  \n"
   ]
  },
  {
   "cell_type": "code",
   "execution_count": null,
   "id": "7ac5fedb",
   "metadata": {},
   "outputs": [],
   "source": [
    "#defining original demand and supply catchments - Scotland-wide, all attributes, polygons and points\n",
    "demand_catchment_original = simdmap_df\n",
    "supply_catchment_original = atm_geodata"
   ]
  },
  {
   "cell_type": "code",
   "execution_count": null,
   "id": "8d358cb2",
   "metadata": {},
   "outputs": [],
   "source": [
    "for row in simdmap_df:\n",
    "    demand_catchment_original[\"equiv_euclidean_radius\"] = np.sqrt(demand_catchment_original[\"Shape_Area\"]/3.14)\n",
    "    demand_catchment_original[\"euclid_radius_to_manhattan\"] = (demand_catchment_original[\"equiv_euclidean_radius\"]/2)**2+(simdmap_df[\"equiv_euclidean_radius\"]/2)**2\n",
    "    demand_catchment_original[\"equiv_manhattan_radius\"] = np.sqrt(demand_catchment_original[\"euclid_radius_to_manhattan\"])\n",
    "    \n",
    "fig= plt.subplots(figsize=(15,8))\n",
    "plt.suptitle('Figure 3 Derived Catchment Distance - Datazones', fontsize=18)\n",
    "plt.ylabel('y',fontsize=14)\n",
    "plt.xlabel('Distance',fontsize=14)\n",
    "demand_catchment_original['equiv_manhattan_radius'].plot(kind = 'hist', bins=20)\n",
    "\n",
    "\n"
   ]
  },
  {
   "cell_type": "code",
   "execution_count": null,
   "id": "0a22632e",
   "metadata": {},
   "outputs": [],
   "source": [
    "demand_catchment_original[\"equiv_manhattan_radius\"].describe()"
   ]
  },
  {
   "cell_type": "markdown",
   "id": "5ba28bb5",
   "metadata": {},
   "source": [
    "A more detailed investigation of the problem focusses upon the local authority area of Glasgow City (**Figure 4**). This allows exploratory data analysis at a more granular level.\n",
    "\n",
    "ATMs are selected for the Glasgow City area(**Figure 5**) with totals of **576 free** and **187 surcharging** ATMs.\n",
    "\n",
    "A 800m Euclidean distance buffer representing a \"20 minute neightbourhood\" catchment has been selected for each ATM - free and surcharging (**Figure 6**)\n",
    "\n",
    "This completes the creation of the first step catchment for Glasgow."
   ]
  },
  {
   "cell_type": "code",
   "execution_count": null,
   "id": "51e3592b",
   "metadata": {},
   "outputs": [],
   "source": [
    "url = \"https://geo.spatialhub.scot/geoserver/sh_las/wfs?service=WFS&request=GetFeature&typeName=pub_las&format_options=filename:Local%20Authority%20Boundaries%20-%20Scotland&outputFormat=application/json&authkey=b85aa063-d598-4582-8e45-e7e6048718fc\"\n",
    "\n",
    "response = requests.get(url, verify=False)\n",
    "la_boundaries_df = gpd.read_file(response.url)\n",
    "la_boundaries_df.columns\n",
    "la_boundaries_glas = la_boundaries_df[la_boundaries_df['local_authority'] == 'Glasgow City']\n"
   ]
  },
  {
   "cell_type": "code",
   "execution_count": null,
   "id": "4ae1c43a",
   "metadata": {},
   "outputs": [],
   "source": [
    "fig, ax = plt.subplots(figsize=(32,16))\n",
    "plt.suptitle('Figure 4. Glasgow City', fontsize=18)\n",
    "plt.ylabel('northing',fontsize=14)\n",
    "plt.xlabel('easting',fontsize=14)\n",
    "la_boundaries_glas.plot(ax=ax, linewidth = 1, facecolor=\"none\", edgecolor = \"blue\", legend=True)\n",
    "ctx.add_basemap(ax, source=ctx.providers.CartoDB.Voyager,crs='EPSG:27700')\n"
   ]
  },
  {
   "cell_type": "code",
   "execution_count": null,
   "id": "1ecbfee4",
   "metadata": {},
   "outputs": [],
   "source": [
    "supply_catchment_free = supply_catchment_original[supply_catchment_original['Charge Type'] == 'Free']\n",
    "supply_catchment_charge = supply_catchment_original[supply_catchment_original['Charge Type'] == 'Surcharging']"
   ]
  },
  {
   "cell_type": "code",
   "execution_count": null,
   "id": "9f4cd409",
   "metadata": {},
   "outputs": [],
   "source": []
  },
  {
   "cell_type": "code",
   "execution_count": null,
   "id": "5864c028",
   "metadata": {},
   "outputs": [],
   "source": [
    "#3 Apr 23 Need to aggregate by totals in case of duplication\n",
    "# Create a new column with the X and Y coordinates as a tuple\n",
    "supply_catchment_free['xy'] = supply_catchment_free['geometry'].apply(lambda geom: (geom.x, geom.y))\n",
    "supply_catchment_charge['xy'] = supply_catchment_charge['geometry'].apply(lambda geom: (geom.x, geom.y))\n",
    "# Group by the xy column and sum up the count of points in each group\n",
    "grouped_free = supply_catchment_free.groupby('xy').size().reset_index(name='number')\n",
    "grouped_charge = supply_catchment_charge.groupby('xy').size().reset_index(name='number')\n",
    "# Create a new geometry column with Point objects for each X and Y coordinate\n",
    "grouped_free['geometry'] = grouped_free['xy'].apply(lambda xy: Point(xy))\n",
    "grouped_charge['geometry'] = grouped_charge['xy'].apply(lambda xy: Point(xy))\n",
    "# Convert back to a GeoDataFrame\n",
    "grouped_free = gpd.GeoDataFrame(grouped_free, geometry='geometry', crs='EPSG:27700')\n",
    "grouped_charge = gpd.GeoDataFrame(grouped_charge, geometry='geometry', crs='EPSG:27700')\n",
    "supply_catchment_free = grouped_free\n",
    "supply_catchment_free['Charge Type'] = 'Free'\n",
    "supply_catchment_charge = grouped_charge\n",
    "supply_catchment_charge['Charge Type'] = 'Surcharging'\n",
    "supply_catchment_all = pd.concat([supply_catchment_free, supply_catchment_charge])"
   ]
  },
  {
   "cell_type": "code",
   "execution_count": null,
   "id": "5e73cfe8",
   "metadata": {},
   "outputs": [],
   "source": [
    "supply_catchment_charge#['number'].mean()"
   ]
  },
  {
   "cell_type": "code",
   "execution_count": null,
   "id": "14161508",
   "metadata": {},
   "outputs": [],
   "source": [
    "supply_catchment_free#['number'].mean()"
   ]
  },
  {
   "cell_type": "markdown",
   "id": "0538cae2",
   "metadata": {},
   "source": [
    "## Clustering of Free ATMs\n",
    "\n",
    "One feature observed during this analysis is the clustering of free ATMs in Glasgow. This is summarised below and shown in **Figure 5**.\n",
    "\n",
    "**Scotland**\n",
    "- Total Free: 4049\n",
    "- Total Charge :1026\n",
    "- Clusters Free: 2896\n",
    "- Clusters Charge: 983\n",
    "- Mean Free: 1.40\n",
    "- Mean Charge: 1.04\n",
    "\n",
    "**Glasgow**\n",
    "- Total Free: 576\n",
    "- Total Charge: 187\n",
    "- Clusters Free: 384\n",
    "- Clusters Charge: 181\n",
    "- Mean Free: 1.50\n",
    "- Mean Charge: 1.03\n",
    "\n",
    "There is a noticeable phenomenon of the clustering of free ATMs which should be considered alongside their greater numbers and prevalence."
   ]
  },
  {
   "cell_type": "code",
   "execution_count": null,
   "id": "4871b6fe",
   "metadata": {},
   "outputs": [],
   "source": [
    "#plot moved around 3 April now shows size of atms\n",
    "fig, ax = plt.subplots(figsize=(32,16))\n",
    "#intersection\n",
    "supply_catchment_glasgow_free = gpd.overlay(supply_catchment_free, la_boundaries_glas, how='intersection')\n",
    "supply_catchment_glasgow_charge = gpd.overlay(supply_catchment_charge, la_boundaries_glas, how='intersection')\n",
    "supply_catchment_glasgow_all = gpd.overlay(supply_catchment_all, la_boundaries_glas, how='intersection')\n",
    "#plot\n",
    "supply_catchment_glasgow_all.plot(ax=ax,column = 'Charge Type',cmap = 'RdYlGn_r', label = 'Charge Type', s = supply_catchment_glasgow_all['number'].astype(float)*50, legend=True,figsize=(32,16))\n",
    "la_boundaries_glas.plot(ax=ax, linewidth = 1, facecolor=\"none\", edgecolor = \"blue\", legend=True)\n",
    "plt.suptitle('Figure 5. Glasgow City ATMs by type', fontsize=18)\n",
    "ctx.add_basemap(ax,source=ctx.providers.CartoDB.Voyager,crs='EPSG:27700')\n"
   ]
  },
  {
   "cell_type": "code",
   "execution_count": null,
   "id": "7db4a18d",
   "metadata": {},
   "outputs": [],
   "source": [
    "supply_catchment_glasgow_charge['number'].sum()\n"
   ]
  },
  {
   "cell_type": "code",
   "execution_count": null,
   "id": "964443bc",
   "metadata": {},
   "outputs": [],
   "source": [
    "supply_catchment_glasgow_free['number'].sum()"
   ]
  },
  {
   "cell_type": "code",
   "execution_count": null,
   "id": "f16073a6",
   "metadata": {},
   "outputs": [],
   "source": [
    "supply_catchment_glasgow_free['centroid'] = supply_catchment_glasgow_free['geometry']\n",
    "supply_catchment_glasgow_charge['centroid'] = supply_catchment_glasgow_charge['geometry']\n",
    "supply_catchment_glasgow_free['geometry'] = supply_catchment_glasgow_free.geometry.buffer(566)\n",
    "supply_catchment_glasgow_charge['geometry'] = supply_catchment_glasgow_charge.geometry.buffer(566)\n"
   ]
  },
  {
   "cell_type": "code",
   "execution_count": null,
   "id": "775d837e",
   "metadata": {},
   "outputs": [],
   "source": [
    "fig, ax = plt.subplots(figsize=(32,16))\n",
    "supply_catchment_glasgow_free.plot(ax=ax,facecolor='none', edgecolor = \"green\")\n",
    "supply_catchment_glasgow_charge.plot(ax=ax,facecolor = \"none\", edgecolor='red')\n",
    "plt.suptitle('Figure 6. Glasgow City ATMs - Free - 566m buffer', fontsize=18)\n",
    "ctx.add_basemap(ax,source=ctx.providers.CartoDB.Voyager,crs='EPSG:27700')"
   ]
  },
  {
   "cell_type": "markdown",
   "id": "c6878b61",
   "metadata": {},
   "source": [
    "## Datazones - A Walkable Subset for Glasgow\n",
    "\n",
    "The demand catchments apply an assumed Manhattan walkable grid distance of 566m (800m Euclidean calculated as Manhattan). Not all datazones are walkable, so a subset is selected based upon walkability, which eliminates large park areas. The difference is shown in **Figures 7 and 8** below, clipped for Glasgow. This includes some datazones not attributed to Glasgow City Council."
   ]
  },
  {
   "cell_type": "code",
   "execution_count": null,
   "id": "a9e12672",
   "metadata": {},
   "outputs": [],
   "source": [
    "#intersection\n",
    "demand_catchment_glasgow = gpd.overlay(demand_catchment_original, la_boundaries_glas, how='intersection')\n",
    "#plot\n",
    "fig, ax = plt.subplots(figsize=(32,16))\n",
    "plt.suptitle('Figure 7. Glasgow SIMD', fontsize=18)\n",
    "plt.ylabel('northing',fontsize=14)\n",
    "plt.xlabel('easting',fontsize=14)\n",
    "demand_catchment_glasgow.plot(ax=ax, column='Decilev2', linewidth = 0.1, legend=True)\n",
    "ctx.add_basemap(ax, source=ctx.providers.CartoDB.Voyager,crs='EPSG:27700')\n"
   ]
  },
  {
   "cell_type": "code",
   "execution_count": null,
   "id": "5b17ab0c",
   "metadata": {},
   "outputs": [],
   "source": [
    "#applies manhattan distance to datazones to eliminate those not walkable\n",
    "demand_catchment_manhattan_glasgow = demand_catchment_glasgow[demand_catchment_glasgow[\"equiv_manhattan_radius\"]<=567 ]"
   ]
  },
  {
   "cell_type": "code",
   "execution_count": null,
   "id": "103011f3",
   "metadata": {},
   "outputs": [],
   "source": [
    "fig, ax = plt.subplots(figsize=(32,16))\n",
    "plt.suptitle('Figure 8. Glasgow SIMD Manhattan Walkable Datazones', fontsize=18)\n",
    "plt.ylabel('northing',fontsize=14)\n",
    "plt.xlabel('easting',fontsize=14)\n",
    "demand_catchment_manhattan_glasgow.plot(ax=ax, column='Decilev2', linewidth = 0.1, legend=True)\n",
    "ctx.add_basemap(ax, source=ctx.providers.CartoDB.Voyager,crs='EPSG:27700')\n"
   ]
  },
  {
   "cell_type": "code",
   "execution_count": null,
   "id": "4f91fe31",
   "metadata": {},
   "outputs": [],
   "source": [
    "demand_catchment_manhattan_glasgow.count()"
   ]
  },
  {
   "cell_type": "markdown",
   "id": "4dd9993b",
   "metadata": {},
   "source": [
    "## Glasgow - Two Step Floating Catchment Analysis\n",
    "\n",
    "**Step 1** is to apply the 566m catchment to the *service points* ie. the Free and Surcharging cash machines, as per **Figures 5* and **6* above, selecting the intersecting *demand locations*.\n",
    "\n",
    "*i* is the set of service point supply locations *n* ie. the Free and Surcharging cash machines by each type at each discrete location.\n",
    "\n",
    "*j* is the set of demand locations *m* ie. the centroids of the datazones.\n",
    "\n",
    "## $s_{ij} = \\frac{a_i}{\\sum_{j \\in B_i} d_j}$\n",
    "\n",
    "**Step 2** is to apply the 566m catchment to the *demand locations* ie the datazones, as per **Figure 8** above. For each *demand catchment*, with the sum of the earlier ratios for each location used to calculate an index of accessibility.\n",
    "\n",
    "## $A_j = \\sum_{i \\in S_j} s_{ij}$\n",
    "\n"
   ]
  },
  {
   "cell_type": "code",
   "execution_count": null,
   "id": "ff970ed1",
   "metadata": {},
   "outputs": [],
   "source": [
    "#step 1 - obtain centroids, apply as geometry, then buffer by 566m\n",
    "demand_catchment_manhattan_glasgow[\"centroid\"] = demand_catchment_manhattan_glasgow[\"geometry\"].centroid\n",
    "demand_catchment_manhattan_glasgow_centroid = demand_catchment_manhattan_glasgow\n",
    "demand_catchment_manhattan_glasgow_centroid[\"geometry\"] = demand_catchment_manhattan_glasgow[\"centroid\"]\n",
    "demand_catchment_manhattan_glasgow = demand_catchment_manhattan_glasgow_centroid\n",
    "demand_catchment_manhattan_glasgow['geometry'] = demand_catchment_manhattan_glasgow.geometry.buffer(566)\n",
    "step1_demand_catchment = demand_catchment_manhattan_glasgow\n",
    "\n",
    "#plot\n",
    "fig, ax = plt.subplots(figsize=(32,16))\n",
    "plt.suptitle('Figure 9. Glasgow SIMD Manhattan Catchments', fontsize=18)\n",
    "plt.ylabel('northing',fontsize=14)\n",
    "plt.xlabel('easting',fontsize=14)\n",
    "step1_demand_catchment.plot(ax=ax, facecolor=\"none\", linewidth = 1, edgecolor = \"blue\")\n",
    "ctx.add_basemap(ax, source=ctx.providers.CartoDB.Voyager,crs='EPSG:27700')"
   ]
  },
  {
   "cell_type": "code",
   "execution_count": null,
   "id": "38c810df",
   "metadata": {},
   "outputs": [],
   "source": [
    "#supply catchments - create index\n",
    "supply_catchment_glasgow_charge['index_column'] = supply_catchment_glasgow_charge.index\n",
    "supply_catchment_glasgow_free['index_column'] = supply_catchment_glasgow_free.index"
   ]
  },
  {
   "cell_type": "code",
   "execution_count": null,
   "id": "2a1bba09",
   "metadata": {},
   "outputs": [],
   "source": [
    "#flipping geometry to centroid for demand catchment - can flip back later\n",
    "step1_demand_catchment['polygon'] = step1_demand_catchment['geometry']\n",
    "step1_demand_catchment['geometry'] = step1_demand_catchment['centroid']"
   ]
  },
  {
   "cell_type": "markdown",
   "id": "27a172bd",
   "metadata": {},
   "source": [
    "## Glasgow - *Step 1*\n",
    "\n",
    "Figure 10 below illustrates **Step 1** - the supply catchments applied to demand centroids, for both Free and Surcharging ATMs, separately. As part of this process, the ratio of service supply to population demand is calculated."
   ]
  },
  {
   "cell_type": "code",
   "execution_count": null,
   "id": "5c4ca548",
   "metadata": {},
   "outputs": [],
   "source": [
    "#adding in population representative points for Demand\n",
    "demand_catchment_manhattan_glasgow_centroidsonly = demand_catchment_manhattan_glasgow\n",
    "demand_catchment_manhattan_glasgow_centroidsonly[\"geometry\"] = demand_catchment_manhattan_glasgow_centroidsonly[\"centroid\"] \n",
    "demand_catchment_manhattan_glasgow_centroidsonly['pop_index'] = (demand_catchment_manhattan_glasgow_centroidsonly['SAPE2017'] - demand_catchment_manhattan_glasgow_centroidsonly['SAPE2017'].min()) / (demand_catchment_manhattan_glasgow_centroidsonly['SAPE2017'].max() - demand_catchment_manhattan_glasgow_centroidsonly['SAPE2017'].min())\n",
    "demand_catchment_manhattan_glasgow_centroidsonly['pop_index'] = demand_catchment_manhattan_glasgow_centroidsonly['pop_index']*20\n",
    "demand_catchment_manhattan_glasgow_centroidsonly['pop_index'] = round(demand_catchment_manhattan_glasgow_centroidsonly['pop_index'],0)\n",
    "\n",
    "#plot\n",
    "fig, ax = plt.subplots(figsize=(32,16))\n",
    "plt.suptitle('Figure 10. Step 1: ATM catchment vs demand catchment centroids (size from population)', fontsize=18)\n",
    "plt.ylabel('northing',fontsize=14)\n",
    "plt.xlabel('easting',fontsize=14)\n",
    "demand_catchment_manhattan_glasgow_centroidsonly.plot(ax=ax, color = \"blue\", markersize=demand_catchment_manhattan_glasgow_centroidsonly['pop_index']*20)\n",
    "supply_catchment_glasgow_charge.plot(ax=ax,edgecolor='red',facecolor=\"none\")\n",
    "supply_catchment_glasgow_free.plot(ax=ax,edgecolor='green',facecolor=\"none\")\n",
    "ctx.add_basemap(ax, source=ctx.providers.CartoDB.Voyager,crs='EPSG:27700')"
   ]
  },
  {
   "cell_type": "code",
   "execution_count": null,
   "id": "11d65ad4",
   "metadata": {},
   "outputs": [],
   "source": [
    "#first step part 1 joining demand layer to supply layers\n",
    "step1_charge_supply = gpd.sjoin(supply_catchment_glasgow_charge, step1_demand_catchment, how='left')\n",
    "step1_free_supply = gpd.sjoin(supply_catchment_glasgow_free, step1_demand_catchment, how='left')"
   ]
  },
  {
   "cell_type": "code",
   "execution_count": null,
   "id": "41fc178d",
   "metadata": {},
   "outputs": [],
   "source": [
    "#first step part 2 dissolve and sum charge\n",
    "step1_charge_supply = step1_charge_supply.dissolve(by = 'index_column', aggfunc='sum')\n",
    "step1_free_supply = step1_free_supply.dissolve(by = 'index_column', aggfunc='sum')\n",
    "step1_charge_supply['total_pop_s1'] = step1_charge_supply['SAPE2017']\n",
    "step1_free_supply['total_pop_s1'] = step1_free_supply['SAPE2017']\n",
    "#3 April 2023 - change applied here to sum by number\n",
    "for i in step1_charge_supply:\n",
    "    step1_charge_supply['s_d_ratio_charge'] = step1_charge_supply['number']/step1_charge_supply['total_pop_s1']\n",
    "for i in step1_free_supply:\n",
    "    step1_free_supply['s_d_ratio_free'] = step1_free_supply['number']/step1_free_supply['total_pop_s1']"
   ]
  },
  {
   "cell_type": "code",
   "execution_count": null,
   "id": "28e655ca",
   "metadata": {},
   "outputs": [],
   "source": [
    "#removing population less than zero to avoid error\n",
    "step1_charge_supply = step1_charge_supply[step1_charge_supply[\"total_pop_s1\"]>0]"
   ]
  },
  {
   "cell_type": "code",
   "execution_count": null,
   "id": "ea0c5ceb",
   "metadata": {},
   "outputs": [],
   "source": [
    "#second step part 1 revert supply catchments to centroids\n",
    "step2_charge_supply = step1_charge_supply\n",
    "step2_free_supply = step1_free_supply\n",
    "\n",
    "for i in step2_charge_supply:\n",
    "    step2_charge_supply['centroid'] = step2_charge_supply.centroid\n",
    "    step2_charge_supply['geometry'] = step2_charge_supply['centroid'] \n",
    "\n",
    "for i in step2_free_supply:\n",
    "    step2_free_supply['centroid'] = step2_free_supply.centroid\n",
    "    step2_free_supply['geometry'] = step2_free_supply['centroid'] \n",
    "    "
   ]
  },
  {
   "cell_type": "code",
   "execution_count": null,
   "id": "2971e001",
   "metadata": {},
   "outputs": [],
   "source": [
    "#first step part 2b dissolve and sum free\n",
    "# need to revert demand catchment to polygons\n",
    "step1_demand_catchment['geometry'] = step1_demand_catchment['polygon']"
   ]
  },
  {
   "cell_type": "markdown",
   "id": "9fb7cd7b",
   "metadata": {},
   "source": [
    "## Glasgow - *Step 2*\n",
    "\n",
    "Figure 11 below illustrates **Step 2** - the demand catchments applied to supply centroids, for both Free and Surcharging ATMs, separately, aggregating the supply vs population ratios from Step 1."
   ]
  },
  {
   "cell_type": "code",
   "execution_count": null,
   "id": "dca6328f",
   "metadata": {},
   "outputs": [],
   "source": [
    "fig, ax = plt.subplots(figsize=(32,16))\n",
    "plt.suptitle('Figure 11. Step 2: Demand catchments vs ATM centroids', fontsize=18)\n",
    "plt.ylabel('northing',fontsize=14)\n",
    "plt.xlabel('easting',fontsize=14)\n",
    "step1_demand_catchment.plot(ax=ax, facecolor=\"none\", edgecolor=\"blue\", linewidth = 0.5)\n",
    "supply_catchment_glasgow_all.plot(ax=ax,column = 'Charge Type',cmap = 'RdYlGn_r',label = 'Charge Type', markersize = supply_catchment_glasgow_all['number'].astype(float)*50, legend=True,figsize=(32,16))\n",
    "\n",
    "ctx.add_basemap(ax, source=ctx.providers.CartoDB.Voyager,crs='EPSG:27700')"
   ]
  },
  {
   "cell_type": "code",
   "execution_count": null,
   "id": "00d5998e",
   "metadata": {},
   "outputs": [],
   "source": [
    "del step2_charge_supply['index_right']\n",
    "del step2_free_supply['index_right'] "
   ]
  },
  {
   "cell_type": "code",
   "execution_count": null,
   "id": "ac351cb3",
   "metadata": {},
   "outputs": [],
   "source": [
    "#second step part 1 charge, join simd to joined atms\n",
    "step2_charge_demand_join = gpd.sjoin(step1_demand_catchment, step2_charge_supply, how='left')\n",
    "step2_free_demand_join = gpd.sjoin(step1_demand_catchment, step2_free_supply, how='left')"
   ]
  },
  {
   "cell_type": "code",
   "execution_count": null,
   "id": "6feffc0f",
   "metadata": {},
   "outputs": [],
   "source": [
    "step2_charge_demand_dissolve = step2_charge_demand_join.dissolve(by = 'DataZone', aggfunc='sum')\n",
    "step2_free_demand_dissolve = step2_free_demand_join.dissolve(by = 'DataZone', aggfunc='sum')"
   ]
  },
  {
   "cell_type": "code",
   "execution_count": null,
   "id": "3707f203",
   "metadata": {},
   "outputs": [],
   "source": [
    "step2_charge_demand_sd_ratio = step2_charge_demand_dissolve[['s_d_ratio_charge']]\n",
    "step2_free_demand_sd_ratio = step2_free_demand_dissolve[['s_d_ratio_free']]"
   ]
  },
  {
   "cell_type": "code",
   "execution_count": null,
   "id": "69928eb1",
   "metadata": {},
   "outputs": [],
   "source": [
    "step2_charge_demand_sd_ratio['DataZone'] = step2_charge_demand_sd_ratio.index\n",
    "step2_free_demand_sd_ratio ['DataZone'] = step2_free_demand_sd_ratio.index"
   ]
  },
  {
   "cell_type": "code",
   "execution_count": null,
   "id": "94ef2f70",
   "metadata": {},
   "outputs": [],
   "source": [
    "#Rectifying earlier error from presentation session on 20 March 2023 - create common index column and atm type column\n",
    "step2_free_demand_sd_ratio['s_d_ratio_for indexing'] = step2_free_demand_sd_ratio['s_d_ratio_free']\n",
    "step2_free_demand_sd_ratio['atm_type'] = 'free'\n",
    "step2_charge_demand_sd_ratio['s_d_ratio_for indexing'] = step2_charge_demand_sd_ratio['s_d_ratio_charge']\n",
    "step2_charge_demand_sd_ratio['atm_type'] = 'surcharging'"
   ]
  },
  {
   "cell_type": "code",
   "execution_count": null,
   "id": "851eeec0",
   "metadata": {},
   "outputs": [],
   "source": [
    "#Rectifying earlier error from presentation session on 20 March 2023 - concatenating 2 tables into 1\n",
    "step2_all_demand_sd_index = pd.concat([step2_free_demand_sd_ratio,step2_charge_demand_sd_ratio])"
   ]
  },
  {
   "cell_type": "code",
   "execution_count": null,
   "id": "957079c4",
   "metadata": {},
   "outputs": [],
   "source": [
    "#Rectifying earlier error from presentation session on 20 March 2023  indexing stage - arithmetic\n",
    "step2_all_demand_sd_index['access_index_all'] = (step2_all_demand_sd_index['s_d_ratio_for indexing'] - step2_all_demand_sd_index['s_d_ratio_for indexing'].min()) / (step2_all_demand_sd_index['s_d_ratio_for indexing'].max() - step2_all_demand_sd_index['s_d_ratio_for indexing'].min()) "
   ]
  },
  {
   "cell_type": "code",
   "execution_count": null,
   "id": "e788fcf7",
   "metadata": {},
   "outputs": [],
   "source": [
    "#Rectifying earlier error from presentation session on 20 March 2023  - split into tables again \n",
    "step2_free_demand_sd_ratio_indexed = step2_all_demand_sd_index[step2_all_demand_sd_index['atm_type'] == 'free']\n",
    "step2_charge_demand_sd_ratio_indexed = step2_all_demand_sd_index[step2_all_demand_sd_index['atm_type'] == 'surcharging']\n"
   ]
  },
  {
   "cell_type": "code",
   "execution_count": null,
   "id": "a9c5ecf4",
   "metadata": {},
   "outputs": [],
   "source": [
    "#rejoin to original dz dataset\n",
    "step2_free_demand_sd_ratio_indexed.reset_index(drop = True, inplace = True) \n",
    "step2_free_demand_sd_ratio_indexed_joined = demand_catchment_glasgow.merge(step2_free_demand_sd_ratio_indexed, on='DataZone')\n",
    "step2_charge_demand_sd_ratio_indexed.reset_index(drop = True, inplace = True) \n",
    "step2_charge_demand_sd_ratio_indexed_joined= demand_catchment_glasgow.merge(step2_charge_demand_sd_ratio_indexed, on='DataZone')"
   ]
  },
  {
   "cell_type": "code",
   "execution_count": null,
   "id": "1890394c",
   "metadata": {},
   "outputs": [],
   "source": [
    "fig, ax = plt.subplots(figsize=(32,16))\n",
    "plt.suptitle('Figure 12. Glasgow SIMD 2SFCA - Accessibility of Surcharging ATMs by datazone', fontsize=18)\n",
    "plt.ylabel('northing',fontsize=14)\n",
    "plt.xlabel('easting',fontsize=14)\n",
    "step2_charge_demand_sd_ratio_indexed_joined.plot(ax=ax, column='access_index_all', linewidth = 0.1, vmax=1, legend=True)\n",
    "ctx.add_basemap(ax, source=ctx.providers.CartoDB.Voyager,crs='EPSG:27700')\n",
    "#looks fine as most access in city centre"
   ]
  },
  {
   "cell_type": "code",
   "execution_count": null,
   "id": "dc63bcc6",
   "metadata": {},
   "outputs": [],
   "source": [
    "fig, ax = plt.subplots(figsize=(32,16))\n",
    "plt.suptitle('Figure 13. Glasgow SIMD 2SFCA - Accessibility of Free ATMs by datazone', fontsize=18)\n",
    "plt.ylabel('northing',fontsize=14)\n",
    "plt.xlabel('easting',fontsize=14)\n",
    "step2_free_demand_sd_ratio_indexed_joined.plot(ax=ax, column='access_index_all', linewidth = 0.1, legend=True)\n",
    "ctx.add_basemap(ax, source=ctx.providers.CartoDB.Voyager,crs='EPSG:27700')\n",
    "#looks fine as most access in city centre"
   ]
  },
  {
   "cell_type": "markdown",
   "id": "c1723bb1",
   "metadata": {},
   "source": [
    "The preceding **Figures 11 and 12** illustrate the relative accessibility of Surcharging and Free ATMs by datazone, following the conclusion of the 2SFCA process. It is clear that (a) there is greater overall accessibility for Free ATMs versus Surcharging ATMs and, (b) there are some notable hot spots, particularly the city centre.\n",
    "\n",
    "**Figures 14 and 15** below provide an overview of the distribution of accessibility: most datazones are not particulcarly accessible, with predominantly lower indices of accessibility. This could be influenced by the clustering of facilities observed earlier, for Free ATMs."
   ]
  },
  {
   "cell_type": "code",
   "execution_count": null,
   "id": "300e9c62",
   "metadata": {},
   "outputs": [],
   "source": [
    "fig= plt.subplots(figsize=(15,8))\n",
    "plt.suptitle('Figure 14. Distribution of Accessibility Index - Surcharging ATMs', fontsize=18)\n",
    "plt.ylabel('y',fontsize=14)\n",
    "plt.xlabel('Index',fontsize=14)\n",
    "step2_charge_demand_sd_ratio_indexed_joined['access_index_all'].plot(kind = 'hist', bins=20)"
   ]
  },
  {
   "cell_type": "code",
   "execution_count": null,
   "id": "86b2be75",
   "metadata": {},
   "outputs": [],
   "source": [
    "fig= plt.subplots(figsize=(15,8))\n",
    "plt.suptitle('Figure 15. Distribution of Accessibility Index - Free ATMs', fontsize=18)\n",
    "plt.ylabel('y',fontsize=14)\n",
    "plt.xlabel('Index',fontsize=14)\n",
    "step2_free_demand_sd_ratio_indexed_joined['access_index_all'].plot(kind = 'hist', bins=20)"
   ]
  },
  {
   "cell_type": "markdown",
   "id": "114ba452",
   "metadata": {},
   "source": [
    "A bivariate regression plot (**Figure 16** below) illustrates the relationship between datazone accessibility index and the deprivation ranking (income deprivation) for Free and Surcharging ATMs. Relationships can be observed, but it is also clear that there are some significant outliers for Free ATMs in particular, possibly influenced by the clustering observed earlier."
   ]
  },
  {
   "cell_type": "code",
   "execution_count": null,
   "id": "6e3d48c7",
   "metadata": {},
   "outputs": [],
   "source": [
    "sns.set_style('ticks')\n",
    "plt.figure(figsize=(15,8))\n",
    "ax = sns.regplot(x='IncRankv2', y='access_index_all',data=step2_free_demand_sd_ratio_indexed_joined, color=\"green\")\n",
    "ax = sns.regplot(x='IncRankv2', y='access_index_all',data=step2_charge_demand_sd_ratio_indexed_joined, color=\"red\")\n",
    "plt.tick_params(axis='both', which='major', labelsize=14)\n",
    "ax.set_title('Figure 16. Accessibility Index by SIMD Rank - All Surcharging and Free ATMs', fontsize = 24)\n",
    "ax.set_ylabel('access index',fontsize=14)\n",
    "ax.set_xlabel('rank',fontsize=14)\n",
    "plt.legend(labels=[\"access index free\",\"model fit\",\"95% confidence\",\"access index charge\",\"model fit\",\"95% confidence\"])\n",
    "\n"
   ]
  },
  {
   "cell_type": "markdown",
   "id": "6a240314",
   "metadata": {},
   "source": [
    "A closer look at the most accessible Free ATM datazones (**Figure 17**) indicates a discrete number of clusters, including the city centre. Most of these are in less income-deprived areas, but with one cluster of deprivation. "
   ]
  },
  {
   "cell_type": "code",
   "execution_count": null,
   "id": "aac154fe",
   "metadata": {},
   "outputs": [],
   "source": [
    "step2_free_demand_sd_ratio_indexed_joined_highaccessibility = step2_free_demand_sd_ratio_indexed_joined[step2_free_demand_sd_ratio_indexed_joined['access_index_all']>0.2]\n",
    "supply_catchment_glasgow_free_clustercheck = supply_catchment_glasgow_all[supply_catchment_glasgow_all['Charge Type'] == 'Free']\n",
    "highaccess_free_atms = gpd.overlay(supply_catchment_glasgow_free_clustercheck, step2_free_demand_sd_ratio_indexed_joined_highaccessibility , how='intersection')\n",
    "fig, ax = plt.subplots(figsize=(32,16))\n",
    "plt.suptitle('Figure 17. Glasgow - Most Accessible Datazones - Free ATMs', fontsize=24)\n",
    "plt.ylabel('northing',fontsize=14)\n",
    "plt.xlabel('easting',fontsize=14)\n",
    "step2_free_demand_sd_ratio_indexed_joined_highaccessibility.plot(ax=ax, column='Decilev2', linewidth = 0.1, legend=True)\n",
    "highaccess_free_atms.plot(ax=ax,markersize = highaccess_free_atms['number'].astype(float)*50, color='green')\n",
    "ctx.add_basemap(ax, source=ctx.providers.CartoDB.Voyager,crs='EPSG:27700')"
   ]
  },
  {
   "cell_type": "markdown",
   "id": "05ca26d2",
   "metadata": {},
   "source": [
    "Removal of outliers, in this case accessibility indices above 0.4 for Free ATMs and above 0.075 for Surcharging ATMs, (**Figures 14 and 15 above**), provides an alternative case for modelling and statistical analysis. This is shown in **Figure 18** below as a variation of **Figure 16**."
   ]
  },
  {
   "cell_type": "code",
   "execution_count": null,
   "id": "cb3fec97",
   "metadata": {},
   "outputs": [],
   "source": [
    "#remove outlier\n",
    "step2_free_demand_sd_ratio_indexed_joined_filter = step2_free_demand_sd_ratio_indexed_joined[(step2_free_demand_sd_ratio_indexed_joined.access_index_all < 0.4)]\n",
    "step2_charge_demand_sd_ratio_indexed_joined_filter = step2_charge_demand_sd_ratio_indexed_joined[(step2_charge_demand_sd_ratio_indexed_joined.access_index_all <0.05)]"
   ]
  },
  {
   "cell_type": "code",
   "execution_count": null,
   "id": "cbcb3cea",
   "metadata": {},
   "outputs": [],
   "source": [
    "sns.set_style('ticks')\n",
    "plt.figure(figsize=(15,8))\n",
    "ax = sns.regplot(x='IncRankv2', y='access_index_all',data=step2_free_demand_sd_ratio_indexed_joined_filter, color=\"green\")\n",
    "ax = sns.regplot(x='IncRankv2', y='access_index_all',data=step2_charge_demand_sd_ratio_indexed_joined_filter, color=\"red\")\n",
    "plt.tick_params(axis='both', which='major', labelsize=14)\n",
    "ax.set_title('Figure 18. Accessibility Index by SIMD Rank - Filtered Surcharging and Free ATMs', fontsize = 24)\n",
    "ax.set_ylabel('access index',fontsize=14)\n",
    "ax.set_xlabel('rank',fontsize=14)\n",
    "plt.legend(labels=[\"access index free\",\"model fit\",\"95% confidence\",\"access index charge\",\"model fit\",\"95% confidence\"])"
   ]
  },
  {
   "cell_type": "markdown",
   "id": "2c1567c0",
   "metadata": {},
   "source": [
    "##  Glasgow - Statistical Analysis \n",
    "\n",
    "For the following sections, an ordinary least squares regression model is applied to datazones for Free and Surcharging ATMs, with the independent variable as the SIMD income rank and the dependent variable as the accessibility rank.\n",
    "\n",
    "The hypotheses are that (a) free ATMs are more accessible in more affluent areas and (b) surcharging ATMs are more accessible in more deprived areas."
   ]
  },
  {
   "cell_type": "code",
   "execution_count": null,
   "id": "3803fa11",
   "metadata": {},
   "outputs": [],
   "source": [
    "import statsmodels.api as sm\n",
    "\n",
    "#not filtered then filtered models from above graphs\n",
    "\n",
    "independent_free_notfiltered = step2_free_demand_sd_ratio_indexed_joined['IncRankv2']\n",
    "dependent_free_notfiltered = step2_free_demand_sd_ratio_indexed_joined['access_index_all']\n",
    "\n",
    "independent_charge_notfiltered = step2_charge_demand_sd_ratio_indexed_joined['IncRankv2']\n",
    "dependent_charge_notfiltered = step2_charge_demand_sd_ratio_indexed_joined['access_index_all']\n",
    "\n",
    "independent_free_filtered = step2_free_demand_sd_ratio_indexed_joined_filter['IncRankv2']\n",
    "dependent_free_filtered = step2_free_demand_sd_ratio_indexed_joined_filter['access_index_all']\n",
    "\n",
    "independent_charge_filtered = step2_charge_demand_sd_ratio_indexed_joined_filter['IncRankv2']\n",
    "dependent_charge_filtered = step2_charge_demand_sd_ratio_indexed_joined_filter['access_index_all']\n",
    "\n"
   ]
  },
  {
   "cell_type": "code",
   "execution_count": null,
   "id": "aac8284f",
   "metadata": {},
   "outputs": [],
   "source": [
    "#free ATMs not filtered\n",
    "X_train,X_test, Y_train, Y_test = train_test_split(independent_free_notfiltered, dependent_free_notfiltered, test_size = .2, random_state = 10)\n",
    "\n",
    "x_incl_cons = sm.add_constant(X_train)\n",
    "model = sm.OLS(Y_train, x_incl_cons)  \n",
    "results = model.fit()  \n",
    "\n",
    "\n",
    "pd.DataFrame({'coef': results.params , 'pvalue': round(results.pvalues,3)})"
   ]
  },
  {
   "cell_type": "code",
   "execution_count": null,
   "id": "eb825de1",
   "metadata": {},
   "outputs": [],
   "source": [
    "#charge ATMs not filtered\n",
    "X_train,X_test, Y_train, Y_test = train_test_split(independent_charge_notfiltered, dependent_charge_notfiltered, test_size = .2, random_state = 10)\n",
    "\n",
    "x_incl_cons = sm.add_constant(X_train)\n",
    "model = sm.OLS(Y_train, x_incl_cons)  \n",
    "results = model.fit()  \n",
    "\n",
    "pd.DataFrame({'coef': results.params , 'pvalue': round(results.pvalues,3)})"
   ]
  },
  {
   "cell_type": "code",
   "execution_count": null,
   "id": "7ae20290",
   "metadata": {},
   "outputs": [],
   "source": [
    "#charge atms filtered\n",
    "\n",
    "X_train,X_test, Y_train, Y_test = train_test_split(independent_charge_filtered, dependent_charge_filtered, test_size = .2, random_state = 10)\n",
    "\n",
    "x_incl_cons = sm.add_constant(X_train)\n",
    "model = sm.OLS(Y_train, x_incl_cons)  \n",
    "results = model.fit()  \n",
    "\n",
    "pd.DataFrame({'coef': results.params , 'pvalue': round(results.pvalues,3)})"
   ]
  },
  {
   "cell_type": "code",
   "execution_count": null,
   "id": "3f93337d",
   "metadata": {},
   "outputs": [],
   "source": [
    "#free atms filtered\n",
    "X_train,X_test, Y_train, Y_test = train_test_split(independent_free_filtered, dependent_free_filtered, test_size = .2, random_state = 10)\n",
    "\n",
    "x_incl_cons = sm.add_constant(X_train)\n",
    "model = sm.OLS(Y_train, x_incl_cons)  \n",
    "results = model.fit()  \n",
    "\n",
    "pd.DataFrame({'coef': results.params , 'pvalue': round(results.pvalues,3)})"
   ]
  },
  {
   "cell_type": "markdown",
   "id": "86ad8dff",
   "metadata": {},
   "source": [
    "The null hypotheses can be rejected, with some caveats and observations:\n",
    "\n",
    "1. There is a statistically-significant relationship for the entire dataset for Free ATMs, with a relationship between income ranking and accessibility (p value of 0.001). However, this does not hold true when the outliers are removed (p value of 0.184). The influence of clustered ATMs (see Figure 17) may be significant.\n",
    "\n",
    "2. There is not a statistically significant relationship between income ranking and accessibility for Surcharging ATMs (p value of 0.926) until outliers are removed (p value of 0.042). As observed earlier, there are fewer Surcharging than Free ATMs, even with the clustering phenomenon for the latter category. \n",
    "\n",
    "The greater accessibility of clustered free ATMs may be a more significant observation than the mixed observations regarding Surcharging ATMs. \n",
    "\n",
    "With this in mind, a Nearest Points assessment can be carried out to identify the nearest ATM and type and any possible relationship between distance by type and income deprivation.\n"
   ]
  },
  {
   "cell_type": "markdown",
   "id": "8bbd0117",
   "metadata": {},
   "source": [
    "## Glasgow - Nearest Points\n",
    "\n",
    "The nearest point will either be a Free or Surcharging ATM for each datazone, measured from the centroid of each datazone."
   ]
  },
  {
   "cell_type": "code",
   "execution_count": null,
   "id": "8d2b78ea",
   "metadata": {},
   "outputs": [],
   "source": [
    "from scipy.spatial import distance_matrix\n",
    "from scipy.stats import rdist\n",
    "from scipy.spatial.distance import pdist, squareform\n",
    "from shapely.ops import nearest_points"
   ]
  },
  {
   "cell_type": "code",
   "execution_count": null,
   "id": "430940a5",
   "metadata": {},
   "outputs": [],
   "source": [
    "step1_demand_catchment['geometry'] = step1_demand_catchment['centroid']\n"
   ]
  },
  {
   "cell_type": "code",
   "execution_count": null,
   "id": "cb1fdd46",
   "metadata": {},
   "outputs": [],
   "source": [
    "#this will check the nearest supply ATMs by type, to residential demand centroids\n",
    "from scipy.spatial import cKDTree\n",
    "from shapely.geometry import Point\n",
    "\n",
    "demand_dist = step1_demand_catchment\n",
    "supply_dist = supply_catchment_glasgow_all\n",
    "\n",
    "def ckdnearest(gdA, gdB):\n",
    "\n",
    "    nA = np.array(list(gdA.geometry.apply(lambda x: (x.x, x.y))))\n",
    "    nB = np.array(list(gdB.geometry.apply(lambda x: (x.x, x.y))))\n",
    "    btree = cKDTree(nB)\n",
    "    dist, idx = btree.query(nA, k=1)\n",
    "    gdB_nearest = gdB.iloc[idx].drop(columns=\"geometry\").reset_index(drop=True)\n",
    "    gdf = pd.concat(\n",
    "        [\n",
    "            gdA.reset_index(drop=True),\n",
    "            gdB_nearest,\n",
    "            pd.Series(dist, name='dist')\n",
    "        ], \n",
    "        axis=1)\n",
    "\n",
    "    return gdf\n",
    "\n",
    "nearest_dist = ckdnearest(demand_dist, supply_dist)"
   ]
  },
  {
   "cell_type": "code",
   "execution_count": null,
   "id": "cf2f0110",
   "metadata": {},
   "outputs": [],
   "source": [
    "nearest_dist_charge = nearest_dist[nearest_dist['Charge Type'] == 'Surcharging']\n",
    "nearest_dist_free = nearest_dist[nearest_dist['Charge Type'] == 'Free']\n",
    "nearest_dist_charge = nearest_dist_charge[['DataZone','Charge Type','dist']]\n",
    "nearest_dist_free = nearest_dist_free[['DataZone','Charge Type','dist']]\n"
   ]
  },
  {
   "cell_type": "code",
   "execution_count": null,
   "id": "8e296aa5",
   "metadata": {},
   "outputs": [],
   "source": [
    "nearest_dist_charge.mean()"
   ]
  },
  {
   "cell_type": "code",
   "execution_count": null,
   "id": "e53bd265",
   "metadata": {},
   "outputs": [],
   "source": [
    "nearest_dist_free.mean()"
   ]
  },
  {
   "cell_type": "code",
   "execution_count": null,
   "id": "aee97ba0",
   "metadata": {},
   "outputs": [],
   "source": [
    "demand_catchment_glasgow_nearest_charge = demand_catchment_glasgow.merge(nearest_dist_charge, on='DataZone')\n",
    "demand_catchment_glasgow_nearest_free = demand_catchment_glasgow.merge(nearest_dist_free, on='DataZone')"
   ]
  },
  {
   "cell_type": "markdown",
   "id": "49ba8712",
   "metadata": {},
   "source": [
    "The nearest ATMs by datazone are mapped in **Figure 19** below. In addition, the mean distances from demand to service facility are 332 metres for Surcharging ATMs and 320 metres for Free ATMs, a marginal difference. This is also plotted at **Figure 20** below."
   ]
  },
  {
   "cell_type": "code",
   "execution_count": null,
   "id": "e4976970",
   "metadata": {},
   "outputs": [],
   "source": [
    "fig, ax = plt.subplots(figsize=(32,16))\n",
    "plt.suptitle('Figure 19. Nearest ATMs - Charge vs Free - Glasgow', fontsize=18)\n",
    "plt.ylabel('northing',fontsize=14)\n",
    "plt.xlabel('easting',fontsize=14)\n",
    "demand_catchment_glasgow_nearest_charge.plot(ax=ax,edgecolor='red',facecolor='red',legend=True,)\n",
    "demand_catchment_glasgow_nearest_free.plot(ax=ax,edgecolor='green',facecolor='green',legend=True,)\n",
    "ctx.add_basemap(ax, source=ctx.providers.CartoDB.Voyager,crs='EPSG:27700')"
   ]
  },
  {
   "cell_type": "markdown",
   "id": "fcbb3679",
   "metadata": {},
   "source": [
    "**Figure 20** indicates that there is a relationship between income deprivation rank and distance to nearest ATM of both types, with distances increasing as wealth increases. This is more noticeable for Surcharging ATMs, possibly a feature of suburban car-using affluence versus urban deprivation."
   ]
  },
  {
   "cell_type": "code",
   "execution_count": null,
   "id": "031079ee",
   "metadata": {},
   "outputs": [],
   "source": [
    "sns.set_style('ticks')\n",
    "plt.figure(figsize=(15,8))\n",
    "ax = sns.regplot(x='IncRankv2', y='dist',data=demand_catchment_glasgow_nearest_free, color=\"green\")\n",
    "ax = sns.regplot(x='IncRankv2', y='dist',data=demand_catchment_glasgow_nearest_charge, color=\"red\")\n",
    "plt.tick_params(axis='both', which='major', labelsize=14)\n",
    "ax.set_title('Figure 20. Nearest ATM distance by type vs income deprivation- Glasgow', fontsize = 24)\n",
    "ax.set_ylabel('distance',fontsize=14)\n",
    "ax.set_xlabel('rank',fontsize=14)\n",
    "plt.legend(labels=[\"distance metres free\",\"model fit\",\"95% confidence\",\"distance metres charge\",\"model fit\",\"95% confidence\"])"
   ]
  },
  {
   "cell_type": "markdown",
   "id": "b753b0bd",
   "metadata": {},
   "source": [
    "Similar to accessibility index versus SIMD income ranking, the relationship can be modelled, with the hypothesis that the distance to the nearest ATM increases with income rank. In the case of the modelling below, this is true for both Surcharging ATMs and Free ATMs, with p values close to zeron."
   ]
  },
  {
   "cell_type": "code",
   "execution_count": null,
   "id": "5dd83325",
   "metadata": {},
   "outputs": [],
   "source": [
    "independent_free_closest = demand_catchment_glasgow_nearest_free['IncRankv2']\n",
    "dependent_free_closest = demand_catchment_glasgow_nearest_free['dist']\n",
    "\n",
    "independent_charge_closest = demand_catchment_glasgow_nearest_charge['IncRankv2']\n",
    "dependent_charge_closest= demand_catchment_glasgow_nearest_charge['dist']"
   ]
  },
  {
   "cell_type": "code",
   "execution_count": null,
   "id": "1e7f8d18",
   "metadata": {},
   "outputs": [],
   "source": [
    "X_train,X_test, Y_train, Y_test = train_test_split(independent_free_closest, dependent_free_closest, test_size = .2, random_state = 10)\n",
    "\n",
    "x_incl_cons = sm.add_constant(X_train)\n",
    "model = sm.OLS(Y_train, x_incl_cons)  \n",
    "results = model.fit()  \n",
    "\n",
    "\n",
    "pd.DataFrame({'coef': results.params , 'pvalue': round(results.pvalues,3)})"
   ]
  },
  {
   "cell_type": "code",
   "execution_count": null,
   "id": "1c72dc0f",
   "metadata": {},
   "outputs": [],
   "source": [
    "X_train,X_test, Y_train, Y_test = train_test_split(independent_charge_closest, dependent_charge_closest, test_size = .2, random_state = 10)\n",
    "\n",
    "x_incl_cons = sm.add_constant(X_train)\n",
    "model = sm.OLS(Y_train, x_incl_cons)  \n",
    "results = model.fit()  \n",
    "\n",
    "\n",
    "pd.DataFrame({'coef': results.params , 'pvalue': round(results.pvalues,3)})"
   ]
  },
  {
   "cell_type": "markdown",
   "id": "7441c581",
   "metadata": {},
   "source": [
    "## Glasgow Data: Conclusions\n",
    "\n",
    "It is possible to apply a spatial analysis to Glasgow in a way that will not be practical for the rest of Scotland. This is not without challenges even at the Glasgow level, but it is possible to identify relationships between deprivation and ATM accessibility, including the clustering of Free ATMs in discrete locations, the general greater accessibility of Surcharging ATMs to more deprived areas and also the relationship between income ranking and distance to nearest ATM (of either type) which is possibly a consequence of suburban affluence, car use and the comparative lack of a need to access cash on a regular basis."
   ]
  },
  {
   "cell_type": "markdown",
   "id": "a4c1985d",
   "metadata": {},
   "source": [
    "## Scotland Wide Analysis\n",
    "\n",
    "The above analysis can be applied on a Scotland wide basis. The steps are generally similar but with less scope for spatial visualisation due to the scale of the analysis, other than **Figure 21** below, which shows the walkable catchments selected and the extent of the removal of rural datazones, reducing the total datazones from 6976 to 5930 datazones, a reduction of only 15% but comprising a substantial area of land. "
   ]
  },
  {
   "cell_type": "code",
   "execution_count": null,
   "id": "9703ddd3",
   "metadata": {},
   "outputs": [],
   "source": [
    "demand_catchment_scotland_manhattan = demand_catchment_original[demand_catchment_original[\"equiv_manhattan_radius\"]<=567 ]"
   ]
  },
  {
   "cell_type": "code",
   "execution_count": null,
   "id": "fab4c5cf",
   "metadata": {},
   "outputs": [],
   "source": [
    "#this is basically walkable demand centres for scotland and eliminates many larger sparse datazones\n",
    "fig, ax = plt.subplots(figsize=(32,16))\n",
    "plt.suptitle('Figure 21. Scotland SIMD Manhattan Walkable Datazones', fontsize=18)\n",
    "plt.ylabel('northing',fontsize=14)\n",
    "plt.xlabel('easting',fontsize=14)\n",
    "demand_catchment_scotland_manhattan.plot(ax=ax, column='Decilev2', linewidth = 0.1, legend=True)\n",
    "ctx.add_basemap(ax, source=ctx.providers.CartoDB.Voyager,crs='EPSG:27700')\n"
   ]
  },
  {
   "cell_type": "code",
   "execution_count": null,
   "id": "a1a5a11c",
   "metadata": {},
   "outputs": [],
   "source": [
    "#rerunning demand catchment buffering for Scotland\n",
    "demand_catchment_scotland_manhattan[\"centroid\"] = demand_catchment_scotland_manhattan[\"geometry\"].centroid\n",
    "demand_catchment_scotland_manhattan_centroid = demand_catchment_scotland_manhattan\n",
    "demand_catchment_scotland_manhattan_centroid[\"geometry\"] = demand_catchment_scotland_manhattan[\"centroid\"]\n",
    "demand_catchment_scotland_manhattan = demand_catchment_scotland_manhattan_centroid\n",
    "demand_catchment_scotland_manhattan['geometry'] = demand_catchment_scotland_manhattan.geometry.buffer(566)\n",
    "step1_demand_catchment_scotland = demand_catchment_scotland_manhattan\n",
    "step1_demand_catchment_scotland['polygon'] = step1_demand_catchment_scotland['geometry']\n",
    "step1_demand_catchment_scotland['geometry'] = step1_demand_catchment_scotland['centroid']"
   ]
  },
  {
   "cell_type": "code",
   "execution_count": null,
   "id": "58dcd818",
   "metadata": {},
   "outputs": [],
   "source": [
    "#rerunning supply catchment selection and buffering for Scotland\n",
    "supply_catchment_scotland_free = supply_catchment_free\n",
    "supply_catchment_scotland_charge = supply_catchment_charge\n",
    "supply_catchment_scotland_free['centroid'] = supply_catchment_scotland_free['geometry']\n",
    "supply_catchment_scotland_charge['centroid'] = supply_catchment_scotland_charge['geometry']\n",
    "supply_catchment_scotland_free['centroid'] = supply_catchment_scotland_free['geometry']\n",
    "supply_catchment_scotland_charge['centroid'] = supply_catchment_scotland_charge['geometry']\n",
    "supply_catchment_scotland_free['geometry'] = supply_catchment_scotland_free.geometry.buffer(566)\n",
    "supply_catchment_scotland_charge['geometry'] = supply_catchment_scotland_charge.geometry.buffer(566)"
   ]
  },
  {
   "cell_type": "code",
   "execution_count": null,
   "id": "8f3958cd",
   "metadata": {},
   "outputs": [],
   "source": [
    "#indexing supply catchment for Scotland\n",
    "supply_catchment_scotland_charge['index_column'] = supply_catchment_scotland_charge.index\n",
    "supply_catchment_scotland_free['index_column'] = supply_catchment_scotland_free.index\n",
    "\n"
   ]
  },
  {
   "cell_type": "code",
   "execution_count": null,
   "id": "52ed8a30",
   "metadata": {},
   "outputs": [],
   "source": [
    "#first supply and demand join scotland\n",
    "step1_scotland_charge_supply = gpd.sjoin(supply_catchment_scotland_charge, step1_demand_catchment_scotland, how='left')\n",
    "step1_scotland_free_supply = gpd.sjoin(supply_catchment_scotland_free, step1_demand_catchment_scotland, how='left')"
   ]
  },
  {
   "cell_type": "code",
   "execution_count": null,
   "id": "a2a8cd07",
   "metadata": {},
   "outputs": [],
   "source": [
    "step1_scotland_charge_supply = step1_scotland_charge_supply.dissolve(by = 'index_column', aggfunc='sum')\n",
    "step1_scotland_free_supply = step1_scotland_free_supply.dissolve(by = 'index_column', aggfunc='sum')\n",
    "step1_scotland_charge_supply['total_pop_s1'] = step1_scotland_charge_supply['SAPE2017']\n",
    "step1_scotland_free_supply['total_pop_s1'] = step1_scotland_free_supply['SAPE2017']\n",
    "#3 April 2023 change applied here to use number instead of arbitrary 1 as per previous analysis for Glasgow\n",
    "for i in step1_scotland_charge_supply:\n",
    "    step1_scotland_charge_supply['s_d_ratio_charge'] = step1_scotland_charge_supply['number']/step1_scotland_charge_supply['total_pop_s1']\n",
    "for i in step1_scotland_free_supply:\n",
    "    step1_scotland_free_supply['s_d_ratio_free'] = step1_scotland_free_supply['number']/step1_scotland_free_supply['total_pop_s1']"
   ]
  },
  {
   "cell_type": "code",
   "execution_count": null,
   "id": "d87a3934",
   "metadata": {},
   "outputs": [],
   "source": [
    "step1_scotland_charge_supply = step1_scotland_charge_supply[step1_scotland_charge_supply[\"total_pop_s1\"]>0]\n",
    "step1_scotland_free_supply = step1_scotland_free_supply[step1_scotland_free_supply[\"total_pop_s1\"]>0]"
   ]
  },
  {
   "cell_type": "code",
   "execution_count": null,
   "id": "9500f2c8",
   "metadata": {},
   "outputs": [],
   "source": [
    "del step1_scotland_charge_supply['index_right']\n",
    "del step1_scotland_free_supply['index_right'] "
   ]
  },
  {
   "cell_type": "code",
   "execution_count": null,
   "id": "5aab8f3d",
   "metadata": {},
   "outputs": [],
   "source": [
    "step2_scotland_charge_supply = step1_scotland_charge_supply\n",
    "step2_scotland_free_supply = step1_scotland_free_supply\n",
    "\n",
    "for i in step2_scotland_charge_supply :\n",
    "    step2_scotland_charge_supply['centroid'] = step2_scotland_charge_supply.centroid\n",
    "    step2_scotland_charge_supply['geometry'] = step2_scotland_charge_supply ['centroid'] \n",
    "\n",
    "for i in step2_scotland_charge_supply:\n",
    "    step2_scotland_charge_supply['centroid'] = step2_scotland_charge_supply.centroid\n",
    "    step2_scotland_charge_supply['geometry'] = step2_scotland_charge_supply['centroid'] \n",
    "    "
   ]
  },
  {
   "cell_type": "code",
   "execution_count": null,
   "id": "3f12f9c1",
   "metadata": {},
   "outputs": [],
   "source": [
    "step1_demand_catchment_scotland['geometry'] = step1_demand_catchment_scotland['polygon']"
   ]
  },
  {
   "cell_type": "code",
   "execution_count": null,
   "id": "8161e971",
   "metadata": {},
   "outputs": [],
   "source": [
    "step2_demand_catchment_scotland = step1_demand_catchment_scotland"
   ]
  },
  {
   "cell_type": "code",
   "execution_count": null,
   "id": "f5f505e7",
   "metadata": {},
   "outputs": [],
   "source": [
    "step2_scotland_charge_demand = gpd.sjoin(step2_demand_catchment_scotland,step2_scotland_charge_supply,  how='left')\n",
    "step2_scotland_free_demand = gpd.sjoin(step2_demand_catchment_scotland, step2_scotland_free_supply, how='left')"
   ]
  },
  {
   "cell_type": "code",
   "execution_count": null,
   "id": "5951c87a",
   "metadata": {},
   "outputs": [],
   "source": [
    "#dissolving and aggregating supply demand ratios\n",
    "step2_scotland_charge_demand_dissolve = step2_scotland_charge_demand.dissolve(by = 'DataZone', aggfunc='sum')\n",
    "step2_scotland_free_demand_dissolve = step2_scotland_free_demand.dissolve(by = 'DataZone', aggfunc='sum')\n",
    "step2_scotland_charge_demand_sd_ratio = step2_scotland_charge_demand_dissolve[['s_d_ratio_charge']]\n",
    "step2_scotland_free_demand_sd_ratio = step2_scotland_free_demand_dissolve[['s_d_ratio_free']]\n",
    "step2_scotland_charge_demand_sd_ratio['DataZone'] = step2_scotland_charge_demand_sd_ratio.index\n",
    "step2_scotland_free_demand_sd_ratio ['DataZone'] = step2_scotland_free_demand_sd_ratio.index"
   ]
  },
  {
   "cell_type": "code",
   "execution_count": null,
   "id": "984c3ef5",
   "metadata": {},
   "outputs": [],
   "source": [
    "#Rectifying earlier error from presentation session on 20 March 2023 - create common index column and atm type column - for Scotland\n",
    "step2_scotland_free_demand_sd_ratio['s_d_ratio_for indexing'] = step2_scotland_free_demand_sd_ratio['s_d_ratio_free']\n",
    "step2_scotland_free_demand_sd_ratio['atm_type'] = 'free'\n",
    "step2_scotland_charge_demand_sd_ratio['s_d_ratio_for indexing'] = step2_scotland_charge_demand_sd_ratio['s_d_ratio_charge']\n",
    "step2_scotland_charge_demand_sd_ratio['atm_type'] = 'surcharging'"
   ]
  },
  {
   "cell_type": "code",
   "execution_count": null,
   "id": "6125cc8d",
   "metadata": {},
   "outputs": [],
   "source": [
    "#Rectifying earlier error from presentation session on 20 March 2023 - concatenating 2 tables into 1\n",
    "step2_scotland_all_demand_sd_index = pd.concat([step2_scotland_free_demand_sd_ratio,step2_scotland_charge_demand_sd_ratio])"
   ]
  },
  {
   "cell_type": "code",
   "execution_count": null,
   "id": "f8588e55",
   "metadata": {},
   "outputs": [],
   "source": [
    "#Rectifying earlier error from presentation session on 20 March 2023  indexing stage - arithmetic\n",
    "step2_scotland_all_demand_sd_index['access_index_all'] = (step2_scotland_all_demand_sd_index['s_d_ratio_for indexing'] - step2_scotland_all_demand_sd_index['s_d_ratio_for indexing'].min()) / (step2_scotland_all_demand_sd_index['s_d_ratio_for indexing'].max() - step2_scotland_all_demand_sd_index['s_d_ratio_for indexing'].min()) "
   ]
  },
  {
   "cell_type": "code",
   "execution_count": null,
   "id": "945f58e1",
   "metadata": {},
   "outputs": [],
   "source": [
    "#Rectifying earlier error from presentation session on 20 March 2023  - split into tables again \n",
    "step2_scotland_free_demand_sd_ratio_indexed = step2_scotland_all_demand_sd_index[step2_scotland_all_demand_sd_index['atm_type'] == 'free']\n",
    "step2_scotland_charge_demand_sd_ratio_indexed = step2_scotland_all_demand_sd_index[step2_scotland_all_demand_sd_index['atm_type'] == 'surcharging']\n"
   ]
  },
  {
   "cell_type": "code",
   "execution_count": null,
   "id": "ebf056b6",
   "metadata": {},
   "outputs": [],
   "source": [
    "step2_scotland_free_demand_sd_ratio_indexed.reset_index(drop = True, inplace = True) \n",
    "step2_scotland_free_demand_sd_ratio_indexed_joined = step2_demand_catchment_scotland.merge(step2_scotland_free_demand_sd_ratio_indexed, on='DataZone')\n",
    "step2_scotland_charge_demand_sd_ratio_indexed.reset_index(drop = True, inplace = True) \n",
    "step2_scotland_charge_demand_sd_ratio_indexed_joined= step2_demand_catchment_scotland.merge(step2_scotland_charge_demand_sd_ratio_indexed, on='DataZone')"
   ]
  },
  {
   "cell_type": "code",
   "execution_count": null,
   "id": "5517d7e4",
   "metadata": {},
   "outputs": [],
   "source": [
    "#no need to plot scotland-wide as buffers too small to see\n",
    "#step2_scotland_charge_demand_sd_ratio_indexed_joined.plot()"
   ]
  },
  {
   "cell_type": "code",
   "execution_count": null,
   "id": "cbe9a09b",
   "metadata": {},
   "outputs": [],
   "source": [
    "fig= plt.subplots(figsize=(12,12))\n",
    "plt.suptitle('Figure 22. Distribution of Accessibility Index - Surcharging', fontsize=18)\n",
    "plt.ylabel('y',fontsize=14)\n",
    "plt.xlabel('Index',fontsize=14)\n",
    "step2_scotland_charge_demand_sd_ratio_indexed_joined['access_index_all'].plot(kind = 'hist', bins=20)"
   ]
  },
  {
   "cell_type": "code",
   "execution_count": null,
   "id": "e9501536",
   "metadata": {},
   "outputs": [],
   "source": [
    "fig= plt.subplots(figsize=(12,12))\n",
    "plt.suptitle('Figure 23. Distribution of Accessibility Index - Free', fontsize=18)\n",
    "plt.ylabel('y',fontsize=14)\n",
    "plt.xlabel('Index',fontsize=14)\n",
    "step2_scotland_free_demand_sd_ratio_indexed_joined['access_index_all'].plot(kind = 'hist', bins=20)"
   ]
  },
  {
   "cell_type": "markdown",
   "id": "1cb7620c",
   "metadata": {},
   "source": [
    "As for accessibility for Glasgow (the earlier **Figures 14 and 15**) the general accessibility for Surcharging and Free ATMs is low, more so for Surcharging ATMs, shown in (**Figures 22 and 23**) above.\n",
    "\n",
    "**Figures 24 and 25** below show access index mapped against SIMD income ranking, both for the entire dataset and also for a filtered subset (<0.4 for free and <0.05 for surcharging) for each ATM type. As for Glasgow, there are more Free ATMs than Surcharging ATMs, although in this case there is no analysis of localised clusters due to scale.\n",
    "\n",
    "Nevertheless, the clustering phenomenon is visible, with an average of 1.4 Free ATMs for each single location compared to 1.04 Surcharging ATMs.\n",
    "\n",
    "- Total Free: 4049\n",
    "- Total Charge :1026\n",
    "- Clusters Free: 2896\n",
    "- Clusters Charge: 983\n",
    "- Mean Free: 1.40\n",
    "- Mean Charge: 1.04"
   ]
  },
  {
   "cell_type": "code",
   "execution_count": null,
   "id": "7c041a75",
   "metadata": {},
   "outputs": [],
   "source": [
    "#count - free\n",
    "step2_scotland_free_demand_sd_ratio_indexed_joined.count()"
   ]
  },
  {
   "cell_type": "code",
   "execution_count": null,
   "id": "d38c4bec",
   "metadata": {},
   "outputs": [],
   "source": [
    "#checking zeroes - free\n",
    "step2_scotland_free_demand_sd_ratio_indexed_joined_zero = step2_scotland_free_demand_sd_ratio_indexed_joined[(step2_scotland_free_demand_sd_ratio_indexed_joined.access_index_all == 0)]\n",
    "step2_scotland_free_demand_sd_ratio_indexed_joined_zero.count()"
   ]
  },
  {
   "cell_type": "code",
   "execution_count": null,
   "id": "3ea45175",
   "metadata": {},
   "outputs": [],
   "source": [
    "#count - surcharging\n",
    "step2_scotland_charge_demand_sd_ratio_indexed_joined.count()"
   ]
  },
  {
   "cell_type": "code",
   "execution_count": null,
   "id": "8dadcb60",
   "metadata": {},
   "outputs": [],
   "source": [
    "#checking zeroes - surcharging\n",
    "step2_scotland_charge_demand_sd_ratio_indexed_joined_zero = step2_scotland_charge_demand_sd_ratio_indexed_joined[(step2_scotland_charge_demand_sd_ratio_indexed_joined.access_index_all == 0)]\n",
    "step2_scotland_charge_demand_sd_ratio_indexed_joined_zero.count()"
   ]
  },
  {
   "cell_type": "code",
   "execution_count": null,
   "id": "64617c3e",
   "metadata": {},
   "outputs": [],
   "source": [
    "sns.set_style('ticks')\n",
    "plt.figure(figsize=(15,8))\n",
    "ax = sns.regplot(x='IncRankv2', y='access_index_all',data=step2_scotland_free_demand_sd_ratio_indexed_joined, color=\"green\")\n",
    "ax = sns.regplot(x='IncRankv2', y='access_index_all',data=step2_scotland_charge_demand_sd_ratio_indexed_joined, color=\"red\")\n",
    "plt.tick_params(axis='both', which='major', labelsize=14)\n",
    "ax.set_title('Figure 24. Accessibility Index by SIMD Rank - Surcharging and Free ATMs - Scotland', fontsize = 24)\n",
    "ax.set_ylabel('access index',fontsize=14)\n",
    "ax.set_xlabel('rank',fontsize=14)\n",
    "plt.legend(labels=[\"access index free\",\"model fit\",\"95% confidence\",\"access index charge\",\"model fit\",\"95% confidence\"])\n"
   ]
  },
  {
   "cell_type": "code",
   "execution_count": null,
   "id": "55bb2f52",
   "metadata": {},
   "outputs": [],
   "source": [
    "step2_scotland_charge_demand_sd_ratio_indexed_joined.describe()"
   ]
  },
  {
   "cell_type": "code",
   "execution_count": null,
   "id": "9030ff33",
   "metadata": {},
   "outputs": [],
   "source": [
    "#removal of outliers\n",
    "step2_scotland_free_demand_sd_ratio_indexed_joined_filter = step2_scotland_free_demand_sd_ratio_indexed_joined[(step2_scotland_free_demand_sd_ratio_indexed_joined.access_index_all <0.4)]\n",
    "step2_scotland_charge_demand_sd_ratio_indexed_joined_filter = step2_scotland_charge_demand_sd_ratio_indexed_joined[(step2_scotland_free_demand_sd_ratio_indexed_joined.access_index_all <0.05)]"
   ]
  },
  {
   "cell_type": "code",
   "execution_count": null,
   "id": "83a51acb",
   "metadata": {},
   "outputs": [],
   "source": [
    "step2_scotland_charge_demand_sd_ratio_indexed_joined_filter.describe()"
   ]
  },
  {
   "cell_type": "code",
   "execution_count": null,
   "id": "5dc153f1",
   "metadata": {},
   "outputs": [],
   "source": [
    "step2_scotland_free_demand_sd_ratio_indexed_joined_filter.describe()"
   ]
  },
  {
   "cell_type": "code",
   "execution_count": null,
   "id": "a3dcba22",
   "metadata": {},
   "outputs": [],
   "source": [
    "#assessing extent of zeroes\n",
    "step2_scotland_free_demand_sd_ratio_indexed_joined_zero = step2_scotland_free_demand_sd_ratio_indexed_joined[(step2_scotland_free_demand_sd_ratio_indexed_joined.access_index_all == 0)]\n",
    "step2_scotland_free_demand_sd_ratio_indexed_joined_zero.count()"
   ]
  },
  {
   "cell_type": "code",
   "execution_count": null,
   "id": "8800eb07",
   "metadata": {},
   "outputs": [],
   "source": [
    "#assessing extent of zeroes - surcharging\n",
    "step2_scotland_charge_demand_sd_ratio_indexed_joined_zero = step2_scotland_charge_demand_sd_ratio_indexed_joined[(step2_scotland_charge_demand_sd_ratio_indexed_joined.access_index_all == 0)]\n",
    "step2_scotland_charge_demand_sd_ratio_indexed_joined_zero.count()"
   ]
  },
  {
   "cell_type": "code",
   "execution_count": null,
   "id": "14797eb5",
   "metadata": {},
   "outputs": [],
   "source": [
    "#probably same plot as earlier if outliers not removed\n",
    "sns.set_style('ticks')\n",
    "plt.figure(figsize=(15,8))\n",
    "#ax = sns.regplot(x='IncRankv2', y='access_index_all',data=step2_scotland_free_demand_sd_ratio_indexed_joined_filter, color=\"green\")\n",
    "ax = sns.regplot(x='IncRankv2', y='access_index_all',data=step2_scotland_charge_demand_sd_ratio_indexed_joined_filter, color=\"red\")\n",
    "plt.tick_params(axis='both', which='major', labelsize=14)\n",
    "ax.set_title('Figure 25. Accessibility Index by SIMD Rank - Surcharging and Free ATMs - Filtered - Scotland', fontsize = 24)\n",
    "ax.set_ylabel('access index',fontsize=14)\n",
    "ax.set_xlabel('rank',fontsize=14)\n",
    "plt.legend(labels=[\"access index free\",\"model fit\",\"95% confidence\",\"access index charge\",\"model fit\",\"95% confidence\"])"
   ]
  },
  {
   "cell_type": "markdown",
   "id": "92c28402",
   "metadata": {},
   "source": [
    "An OLS regression model can be run once more, returning p values of close to zero for the entire dataset for Surcharging and Free ATMs, also for the subsets (<0.4 for free and <0.05 for surcharging). It is difficult to interpret this other than a general decline in accessibility as income rank increases, other than for the data subset for Free ATMs where higher accessibility values have been removed. "
   ]
  },
  {
   "cell_type": "code",
   "execution_count": null,
   "id": "25b55f92",
   "metadata": {},
   "outputs": [],
   "source": [
    "#overwrite previous model variables\n",
    "independent_free_notfiltered_scot = step2_scotland_free_demand_sd_ratio_indexed_joined['IncRankv2']\n",
    "dependent_free_notfiltered_scot = step2_scotland_free_demand_sd_ratio_indexed_joined['access_index_all']\n",
    "\n",
    "independent_charge_notfiltered_scot = step2_scotland_charge_demand_sd_ratio_indexed_joined['IncRankv2']\n",
    "dependent_charge_notfiltered_scot = step2_scotland_charge_demand_sd_ratio_indexed_joined['access_index_all']\n",
    "\n",
    "independent_free_filtered_scot = step2_scotland_free_demand_sd_ratio_indexed_joined_filter['IncRankv2']\n",
    "dependent_free_filtered_scot = step2_scotland_free_demand_sd_ratio_indexed_joined_filter['access_index_all']\n",
    "\n",
    "independent_charge_filtered_scot = step2_scotland_charge_demand_sd_ratio_indexed_joined_filter['IncRankv2']\n",
    "dependent_charge_filtered_scot = step2_scotland_charge_demand_sd_ratio_indexed_joined_filter['access_index_all']"
   ]
  },
  {
   "cell_type": "code",
   "execution_count": null,
   "id": "a6a4abaa",
   "metadata": {},
   "outputs": [],
   "source": [
    "dependent_charge_notfiltered_scot.describe()"
   ]
  },
  {
   "cell_type": "code",
   "execution_count": null,
   "id": "6c65e244",
   "metadata": {},
   "outputs": [],
   "source": [
    "#free ATMs not filtered\n",
    "X_train,X_test, Y_train, Y_test = train_test_split(independent_free_notfiltered_scot, dependent_free_notfiltered_scot, test_size = .2, random_state = 10)\n",
    "\n",
    "x_incl_cons = sm.add_constant(X_train)\n",
    "model = sm.OLS(Y_train, x_incl_cons)  \n",
    "results = model.fit()  \n",
    "\n",
    "\n",
    "pd.DataFrame({'coef': results.params , 'pvalue': round(results.pvalues,3)})"
   ]
  },
  {
   "cell_type": "code",
   "execution_count": null,
   "id": "d89d3f74",
   "metadata": {},
   "outputs": [],
   "source": [
    "#charge ATMs not filtered\n",
    "X_train,X_test, Y_train, Y_test = train_test_split(independent_charge_notfiltered_scot, dependent_charge_notfiltered_scot, test_size = .2, random_state = 10)\n",
    "\n",
    "x_incl_cons = sm.add_constant(X_train)\n",
    "model = sm.OLS(Y_train, x_incl_cons)  \n",
    "results = model.fit()  \n",
    "\n",
    "pd.DataFrame({'coef': results.params , 'pvalue': round(results.pvalues,3)})"
   ]
  },
  {
   "cell_type": "code",
   "execution_count": null,
   "id": "28bddc51",
   "metadata": {},
   "outputs": [],
   "source": [
    "#free ATMs filtered\n",
    "X_train,X_test, Y_train, Y_test = train_test_split(independent_free_filtered_scot, dependent_free_filtered_scot, test_size = .2, random_state = 10)\n",
    "\n",
    "x_incl_cons = sm.add_constant(X_train)\n",
    "model = sm.OLS(Y_train, x_incl_cons)  \n",
    "results = model.fit()  \n",
    "\n",
    "\n",
    "pd.DataFrame({'coef': results.params , 'pvalue': round(results.pvalues,3)})"
   ]
  },
  {
   "cell_type": "code",
   "execution_count": null,
   "id": "fbbeca6d",
   "metadata": {},
   "outputs": [],
   "source": [
    "X_test"
   ]
  },
  {
   "cell_type": "code",
   "execution_count": null,
   "id": "cfdd3502",
   "metadata": {},
   "outputs": [],
   "source": [
    "#charge ATMs filtered\n",
    "X_train,X_test, Y_train, Y_test = train_test_split(independent_charge_filtered_scot, dependent_charge_filtered_scot, test_size = .2, random_state = 10)\n",
    "\n",
    "x_incl_cons = sm.add_constant(X_train)\n",
    "model = sm.OLS(Y_train, x_incl_cons)  \n",
    "results = model.fit()  \n",
    "\n",
    "pd.DataFrame({'coef': results.params , 'pvalue': round(results.pvalues,3)})"
   ]
  },
  {
   "cell_type": "code",
   "execution_count": null,
   "id": "5d5fdf69",
   "metadata": {},
   "outputs": [],
   "source": []
  },
  {
   "cell_type": "markdown",
   "id": "7241e047",
   "metadata": {},
   "source": [
    "## Scotland - Nearest Points\n",
    "\n",
    "As for Glasgow, an analysis based upon nearest points can be conducted.  In this case, the mean distance is generally lower for Surcharging ATMs (352 metres) than for Free ATMs (420 metres) although with many more nearest Free ATMs (4301) compared to Surcharging ATMs (1629). "
   ]
  },
  {
   "cell_type": "code",
   "execution_count": null,
   "id": "2cfa27a4",
   "metadata": {},
   "outputs": [],
   "source": [
    "#nearest table next\n",
    "step1_demand_catchment_scotland['geometry'] = step1_demand_catchment_scotland['centroid']"
   ]
  },
  {
   "cell_type": "code",
   "execution_count": null,
   "id": "852de1c1",
   "metadata": {},
   "outputs": [],
   "source": [
    "demand_dist = step1_demand_catchment_scotland\n",
    "supply_dist = supply_catchment_original\n",
    "\n",
    "def ckdnearest(gdA, gdB):\n",
    "\n",
    "    nA = np.array(list(gdA.geometry.apply(lambda x: (x.x, x.y))))\n",
    "    nB = np.array(list(gdB.geometry.apply(lambda x: (x.x, x.y))))\n",
    "    btree = cKDTree(nB)\n",
    "    dist, idx = btree.query(nA, k=1)\n",
    "    gdB_nearest = gdB.iloc[idx].drop(columns=\"geometry\").reset_index(drop=True)\n",
    "    gdf = pd.concat(\n",
    "        [\n",
    "            gdA.reset_index(drop=True),\n",
    "            gdB_nearest,\n",
    "            pd.Series(dist, name='dist')\n",
    "        ], \n",
    "        axis=1)\n",
    "\n",
    "    return gdf\n",
    "\n",
    "nearest_dist_scot = ckdnearest(demand_dist, supply_dist)"
   ]
  },
  {
   "cell_type": "code",
   "execution_count": null,
   "id": "ad2f0730",
   "metadata": {},
   "outputs": [],
   "source": [
    "nearest_dist_scot_charge = nearest_dist_scot[nearest_dist_scot['Charge Type'] == 'Surcharging']\n",
    "nearest_dist_scot_free = nearest_dist_scot[nearest_dist_scot['Charge Type'] == 'Free']\n",
    "nearest_dist_scot_charge = nearest_dist_scot_charge[['DataZone','Charge Type','dist','IncRankv2']]\n",
    "nearest_dist_scot_free = nearest_dist_scot_free[['DataZone','Charge Type','dist','IncRankv2']]"
   ]
  },
  {
   "cell_type": "code",
   "execution_count": null,
   "id": "6ffe20f5",
   "metadata": {},
   "outputs": [],
   "source": [
    "nearest_dist_scot_charge.mean()"
   ]
  },
  {
   "cell_type": "code",
   "execution_count": null,
   "id": "8b1155e4",
   "metadata": {},
   "outputs": [],
   "source": [
    "nearest_dist_scot_free.mean() "
   ]
  },
  {
   "cell_type": "markdown",
   "id": "64073d5d",
   "metadata": {},
   "source": [
    "**Figures 26 to 28** show the relationship between ATM distance and income deprivation, by ATM type. It is difficult to discern much at the national level, likely with some considerable driving distances and influential outliers, so selecting an arbitrary threshold of 1000 metres provides a more interpretable visualisation and dataset (**Figure 27**) with a Manhattan equivalent of 576 metres for **Figure 28**. There is little difference between the nearest machine mean distance by type, 341 metres for Free and 315 metres for Surcharging within a kilometre, and 281 metres versus 266 metresfor Free and Surcharging respectively, within 577 metres . "
   ]
  },
  {
   "cell_type": "code",
   "execution_count": null,
   "id": "a08153e7",
   "metadata": {},
   "outputs": [],
   "source": [
    "sns.set_style('ticks')\n",
    "plt.figure(figsize=(15,8))\n",
    "ax = sns.regplot(x='IncRankv2', y='dist',data=nearest_dist_scot_free, color=\"green\")\n",
    "ax = sns.regplot(x='IncRankv2', y='dist',data=nearest_dist_scot_charge, color=\"red\")\n",
    "plt.tick_params(axis='both', which='major', labelsize=14)\n",
    "ax.set_title('Figure 26. Nearest ATM distance by type vs income deprivation- Scotland', fontsize = 24)\n",
    "ax.set_ylabel('distance',fontsize=14)\n",
    "ax.set_xlabel('rank',fontsize=14)\n",
    "plt.legend(labels=[\"distance metres free\",\"model fit\",\"95% confidence\",\"distance metres charge\",\"model fit\",\"95% confidence\"])"
   ]
  },
  {
   "cell_type": "code",
   "execution_count": null,
   "id": "22be8d4b",
   "metadata": {},
   "outputs": [],
   "source": [
    "#filter for 1000m and 577m\n",
    "nearest_dist_scot_charge_576 = nearest_dist_scot_charge[nearest_dist_scot_charge['dist'] <= 577]\n",
    "nearest_dist_scot_free_576 = nearest_dist_scot_free[nearest_dist_scot_free['dist'] <= 577]\n",
    "nearest_dist_scot_charge_1000 = nearest_dist_scot_charge[nearest_dist_scot_charge['dist'] <= 1000]\n",
    "nearest_dist_scot_free_1000 = nearest_dist_scot_free[nearest_dist_scot_free['dist'] <= 1000]"
   ]
  },
  {
   "cell_type": "code",
   "execution_count": null,
   "id": "718ece77",
   "metadata": {},
   "outputs": [],
   "source": [
    "nearest_dist_scot_charge_1000.mean()"
   ]
  },
  {
   "cell_type": "code",
   "execution_count": null,
   "id": "2d29e315",
   "metadata": {},
   "outputs": [],
   "source": [
    "nearest_dist_scot_free_1000.mean()"
   ]
  },
  {
   "cell_type": "code",
   "execution_count": null,
   "id": "7300b842",
   "metadata": {},
   "outputs": [],
   "source": [
    "nearest_dist_scot_charge_576.mean()"
   ]
  },
  {
   "cell_type": "code",
   "execution_count": null,
   "id": "46a4e261",
   "metadata": {},
   "outputs": [],
   "source": [
    "nearest_dist_scot_free_576.mean()"
   ]
  },
  {
   "cell_type": "code",
   "execution_count": null,
   "id": "352c1c2e",
   "metadata": {},
   "outputs": [],
   "source": [
    "sns.set_style('ticks')\n",
    "plt.figure(figsize=(15,8))\n",
    "ax = sns.regplot(x='IncRankv2', y='dist',data=nearest_dist_scot_free_1000, color=\"green\")\n",
    "ax = sns.regplot(x='IncRankv2', y='dist',data=nearest_dist_scot_charge_1000, color=\"red\")\n",
    "plt.tick_params(axis='both', which='major', labelsize=14)\n",
    "ax.set_title('Figure 27. Nearest ATM distance by type vs income deprivation- Scotland (within 1000m)', fontsize = 24)\n",
    "ax.set_ylabel('distance',fontsize=14)\n",
    "ax.set_xlabel('rank',fontsize=14)\n",
    "plt.legend(labels=[\"distance metres free\",\"model fit\",\"95% confidence\",\"distance metres charge\",\"model fit\",\"95% confidence\"])"
   ]
  },
  {
   "cell_type": "code",
   "execution_count": null,
   "id": "1c5b87bd",
   "metadata": {},
   "outputs": [],
   "source": [
    "sns.set_style('ticks')\n",
    "plt.figure(figsize=(15,8))\n",
    "ax = sns.regplot(x='IncRankv2', y='dist',data=nearest_dist_scot_free_576, color=\"green\")\n",
    "ax = sns.regplot(x='IncRankv2', y='dist',data=nearest_dist_scot_charge_576, color=\"red\")\n",
    "plt.tick_params(axis='both', which='major', labelsize=14)\n",
    "ax.set_title('Figure 28. Nearest ATM distance by type vs income deprivation- Scotland (576m)', fontsize = 24)\n",
    "ax.set_ylabel('distance',fontsize=14)\n",
    "ax.set_xlabel('rank',fontsize=14)\n",
    "plt.legend(labels=[\"distance metres free\",\"model fit\",\"95% confidence\",\"distance metres charge\",\"model fit\",\"95% confidence\"])"
   ]
  },
  {
   "cell_type": "markdown",
   "id": "668d61c3",
   "metadata": {},
   "source": [
    "As for the Scotland nearest analysis, the relationships can be investigated via OLS regression modelling. However, although there are statistically significant relationships between income ranking and distance to an ATM - a slight increase in the latter as the former increases - it is difficult to interpret this at a national scale."
   ]
  },
  {
   "cell_type": "code",
   "execution_count": null,
   "id": "e990d371",
   "metadata": {},
   "outputs": [],
   "source": [
    "independent_free_dist_scot_notfiltered = nearest_dist_scot_free['IncRankv2']\n",
    "dependent_free_dist_scot_notfiltered = nearest_dist_scot_free['dist']\n",
    "\n",
    "independent_charge_dist_scot_notfiltered = nearest_dist_scot_charge['IncRankv2']\n",
    "dependent_charge_dist_scot_notfiltered = nearest_dist_scot_charge['dist']\n",
    "\n",
    "independent_free_dist_scot_filtered = nearest_dist_scot_free_576['IncRankv2']\n",
    "dependent_free_dist_scot_filtered = nearest_dist_scot_free_576['dist']\n",
    "\n",
    "independent_charge_dist_scot_filtered = nearest_dist_scot_charge_576['IncRankv2']\n",
    "dependent_charge_dist_scot_filtered = nearest_dist_scot_charge_576['dist']"
   ]
  },
  {
   "cell_type": "code",
   "execution_count": null,
   "id": "03f76470",
   "metadata": {},
   "outputs": [],
   "source": [
    "#free ATMs not filtered\n",
    "X_train,X_test, Y_train, Y_test = train_test_split(independent_free_dist_scot_notfiltered, dependent_free_dist_scot_notfiltered, test_size = .2, random_state = 10)\n",
    "\n",
    "x_incl_cons = sm.add_constant(X_train)\n",
    "model = sm.OLS(Y_train, x_incl_cons)  \n",
    "results = model.fit()  \n",
    "\n",
    "\n",
    "pd.DataFrame({'coef': results.params , 'pvalue': round(results.pvalues,3)})\n"
   ]
  },
  {
   "cell_type": "code",
   "execution_count": null,
   "id": "a27a290a",
   "metadata": {},
   "outputs": [],
   "source": [
    "#surcharging ATMs not filtered\n",
    "X_train,X_test, Y_train, Y_test = train_test_split(independent_charge_dist_scot_notfiltered, dependent_charge_dist_scot_notfiltered, test_size = .2, random_state = 10)\n",
    "\n",
    "x_incl_cons = sm.add_constant(X_train)\n",
    "model = sm.OLS(Y_train, x_incl_cons)  \n",
    "results = model.fit()  \n",
    "\n",
    "\n",
    "pd.DataFrame({'coef': results.params , 'pvalue': round(results.pvalues,3)})"
   ]
  },
  {
   "cell_type": "code",
   "execution_count": null,
   "id": "aaa81fb0",
   "metadata": {},
   "outputs": [],
   "source": [
    "#free ATMs filtered\n",
    "X_train,X_test, Y_train, Y_test = train_test_split(independent_free_dist_scot_filtered, dependent_free_dist_scot_filtered, test_size = .2, random_state = 10)\n",
    "\n",
    "x_incl_cons = sm.add_constant(X_train)\n",
    "model = sm.OLS(Y_train, x_incl_cons)  \n",
    "results = model.fit()  \n",
    "\n",
    "\n",
    "pd.DataFrame({'coef': results.params , 'pvalue': round(results.pvalues,3)})"
   ]
  },
  {
   "cell_type": "code",
   "execution_count": null,
   "id": "1000d6e2",
   "metadata": {},
   "outputs": [],
   "source": [
    "#surcharging ATMs filtered\n",
    "X_train,X_test, Y_train, Y_test = train_test_split(independent_charge_dist_scot_filtered, dependent_charge_dist_scot_filtered, test_size = .2, random_state = 10)\n",
    "\n",
    "x_incl_cons = sm.add_constant(X_train)\n",
    "model = sm.OLS(Y_train, x_incl_cons)  \n",
    "results = model.fit()  \n",
    "\n",
    "\n",
    "pd.DataFrame({'coef': results.params , 'pvalue': round(results.pvalues,3)})"
   ]
  },
  {
   "cell_type": "markdown",
   "id": "4e50bcda",
   "metadata": {},
   "source": [
    "## Conclusions: Scotland\n",
    "\n",
    "A Scotland-wide analysis does not appear to be particularly useful, even for a subset of datazones assumed to be accessible, other than in identifying a general weak relationship between income ranking and accessibility/ nearest distance to ATMs of both Surcharging and Free types, with accessibility decreasing as income ranking increases and the nearest distance to ATM type decreasing as income rank increases. A focus on settlements or clusters on a comparative basis might be more useful, following the earlier Glasgow model. The extent of catchments for surcharging ATMs with zero accessibility was a notable finding and indicates a failure in the approach to defining catchments."
   ]
  },
  {
   "cell_type": "markdown",
   "id": "53189b36",
   "metadata": {},
   "source": [
    "## Conclusion\n",
    "\n",
    "The Glasgow model indicated relationships between deprivation and ATM accessibility, including the clustering of Free ATMs in discrete locations, the general greater accessibility of Free ATMs, of Surcharging ATMs to more deprived areas and also the relationship between income ranking and distance to nearest ATM. It was possible to focus on a number of areas where high accessiblity of Free ATMs coincided with clusters of these machines, in an interesting inversion of the original research question, raising a question of the influence of these Fee ATM clusters in terms of localised provision versus more general provision, undermining a possible assumption that the greater number of Free ATMs means they have greater accessibility in the context of social and spatial equality.\n",
    "\n",
    "A Scotland-wide analysis did not yield as useful results. Nevertheless, applying a similar model as Glasgow to discrete urban areas of Scotland might prove more productive, possibly within the context of 20 minute neighbourhoods. This may also prove useful in directing the subsidy of free-to-use ATMs in more deprived areas.\n"
   ]
  },
  {
   "cell_type": "markdown",
   "id": "70d97a8c",
   "metadata": {},
   "source": [
    "## End of Notebook, Run All Above\n"
   ]
  }
 ],
 "metadata": {
  "kernelspec": {
   "display_name": "Python 3 (ipykernel)",
   "language": "python",
   "name": "python3"
  },
  "language_info": {
   "codemirror_mode": {
    "name": "ipython",
    "version": 3
   },
   "file_extension": ".py",
   "mimetype": "text/x-python",
   "name": "python",
   "nbconvert_exporter": "python",
   "pygments_lexer": "ipython3",
   "version": "3.7.12"
  }
 },
 "nbformat": 4,
 "nbformat_minor": 5
}
